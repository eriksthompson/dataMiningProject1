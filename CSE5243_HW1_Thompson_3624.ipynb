{
 "cells": [
  {
   "cell_type": "markdown",
   "metadata": {
    "tags": []
   },
   "source": [
    "### CSE 5243 - Introduction to Data Mining\n",
    "## Homework 1: CRISP_DM Steps 2-3 (with Exploratory Data Analysis)\n",
    "Replace the example information below with your real information:\n",
    "- Semester: Spring 2024\n",
    "- Instructor: Tom Bihari\n",
    "- Section Wed/Fri 12:45PM\n",
    "- Student Name: Erik Thompson\n",
    "- Student Email: thompson.3624@osu.edu\n",
    "- Student ID: 500367903\n",
    "\n",
    "Based on CRISP-DM Template Version V11."
   ]
  },
  {
   "cell_type": "markdown",
   "metadata": {
    "tags": []
   },
   "source": [
    "***\n",
    "# Section: Overview\n",
    "- Insert a short description of the scope of this exercise, any supporting information, etc.\n",
    "- **(I will fill this in for each assignment - Tom Bihari)**\n",
    "***"
   ]
  },
  {
   "cell_type": "markdown",
   "metadata": {},
   "source": [
    "### Assignment Overview\n",
    "In this assignment, you will analyze a copy of the “Regensburg Pediatric Appendicitis” dataset.\n",
    "- This dataset was pulled from: https://archive.ics.uci.edu/datasets?search=Regensburg%20Pediatric%20Appendicitis\n",
    "- Dataset citation: [![DOI](https://zenodo.org/badge/DOI/10.5281/zenodo.7711412.svg)](https://doi.org/10.5281/zenodo.7711412)\n",
    "\n",
    "This assignment covers **steps two and three of the six steps** of the **CRISP-DM process model** (Data Understanding, Data Preparation). (See the CRISP-DM materials on CARMEN.)\n",
    "\n",
    "The **objectives** of this assignment are:\n",
    "- By analyzing and thinking critically about the data, you may identify interesting charcteristics that would be valuable when using the data.\n",
    "- The final, cleaned-up dataset that you create may be used to build classification / regression models in assignments.\n",
    "\n",
    "### Problem Statement\n",
    "Assume that you are the Director of Medical Analytics for Buckeye Medical Center (BMC).  BMC wants to improve its Pediatric Appendicitis management practices.\n",
    "- BMC has obtained data on pediatric appendicitis cases handled by Children’s Hospital St. Hedwig in Regensburg, Germany, between 2016 and 2021.\n",
    "- BMC leadership has asked your team to analyze the data, and determine if it is suitable for developing analyses and models that would be effective in improving the management of pediatric appendicitis cases at BMC.\n",
    "- Based on this, BMC may make improvements to specific aspects of their services, with a goal of improving BAI's overall customer satisfaction.\n",
    "\n",
    "You decide to look at the dataset, **explore (understand)** what it contains, and **create (prepare)** a clean dataset from it that contains the kind of information you think might be useful.\n",
    "\n",
    "**Assumption:** In the future, you will be creating a Classifiction model that predicts one or more of the \"class\" or \"target\" variables ('Management', 'Severity', 'Diagnosis').  For this assignment, assume you will be predicting the **Diagnosis** class variable.  You do not yet know the specific Classification algorithm or model you will use.  **That will come in a later assignment.**\n",
    "\n",
    "### Things To Do\n",
    "Complete **Sections 2 and 3** of CRISP-DM in this notebook (and the **Conclusion**). \n",
    "- **Data Understanding**: Perform Exploratory Data Analysis and gain an understanding of the contents and usefulness of the dataset. \n",
    "- **Data Preparation**: Clean up the data and save it for future use.\n",
    "\n",
    "### Important Points\n",
    "It is essential that you **communicate** your goals, thought process, actions, results, and conclusions to the **audience** that will consume this work.  It is **not enough** to show just the code.  It is not appropriate to show long sections of **unexplained printout**, etc.  Be kind to your readers and provide value to them!\n",
    "\n",
    "**ALWAYS follow this pattern** when doing **each portion** of the work.  This allows us to give feedback and assign scores, and to give partial credit.  Make it easy for the reader to understand your work.\n",
    "- Say (briefly) **what** you are trying to do, and **why**.\n",
    "- Do it (code), and comment your code, so others can understand and evaluate it.\n",
    "- Show or describe the **result** clearly (and briefly as needed), and explain the significant **conclusions or insights** derived from the results. \n",
    "\n",
    "**HAVE FUN!**"
   ]
  },
  {
   "cell_type": "code",
   "execution_count": null,
   "metadata": {},
   "outputs": [],
   "source": []
  },
  {
   "cell_type": "markdown",
   "metadata": {},
   "source": [
    "***\n",
    "# Section: Setup\n",
    "- Add any needed imports, helper functions, etc., here.\n",
    "***"
   ]
  },
  {
   "cell_type": "code",
   "execution_count": 2,
   "metadata": {},
   "outputs": [],
   "source": [
    "import numpy as np\n",
    "import pandas as pd\n",
    "import seaborn as sb\n",
    "#!pip install matplotlib\n",
    "import matplotlib\n",
    "import matplotlib.pyplot as plt\n",
    "%matplotlib inline\n",
    "#matplotlib.use('Qt5Agg')\n",
    "\n",
    "import seaborn as sns\n",
    "\n",
    "pd.set_option('display.max_columns', 50) #include to avoid ... in middle of display"
   ]
  },
  {
   "cell_type": "markdown",
   "metadata": {
    "tags": []
   },
   "source": [
    "***\n",
    "# Section: 1 - Business Understanding - **SKIP THIS!**\n",
    "- This step is essential (and occasionally ignored…).  It focuses on understanding the business needs and objectives, and defining a data analysis problem that is relevant and useful to the business, so the right solution is built.\n",
    "\n",
    "- Consider the following questions and discuss the possible answers to them in the spaces below.\n",
    "  - It is OK to say that you do not know.  How might you get answers to the questions?\n",
    "  - You may consider some of the questions to be \"not applicable\".  If so, why?\n",
    "  - You may choose to use markdown instead of raw text in the answer cells, to make them \"pretty\" and easy to read.\n",
    "***"
   ]
  },
  {
   "cell_type": "markdown",
   "metadata": {},
   "source": [
    "**Context**\n",
    "- What is the overview, history, big picture?"
   ]
  },
  {
   "cell_type": "code",
   "execution_count": null,
   "metadata": {},
   "outputs": [],
   "source": []
  },
  {
   "cell_type": "markdown",
   "metadata": {},
   "source": [
    "**Business Objectives**\n",
    "- What is the problem or opportunity to be addressed / solved?\n",
    "- What is its business value?"
   ]
  },
  {
   "cell_type": "code",
   "execution_count": null,
   "metadata": {
    "tags": []
   },
   "outputs": [],
   "source": []
  },
  {
   "cell_type": "markdown",
   "metadata": {},
   "source": [
    "**Stakeholders**\n",
    "- Who are they?\n",
    "- What are their needs?"
   ]
  },
  {
   "cell_type": "code",
   "execution_count": null,
   "metadata": {},
   "outputs": [],
   "source": []
  },
  {
   "cell_type": "markdown",
   "metadata": {
    "tags": []
   },
   "source": [
    "**General Goals**\n",
    "- Understand the past/current state (descriptive)?\n",
    "- Predict the future (predictive)?\n",
    "- Mine for unknown patterns / insights?\n",
    "- Answer questions?  What are they?\n",
    "- Support decisions?  What are they?"
   ]
  },
  {
   "cell_type": "code",
   "execution_count": null,
   "metadata": {
    "tags": []
   },
   "outputs": [],
   "source": []
  },
  {
   "cell_type": "markdown",
   "metadata": {
    "tags": []
   },
   "source": [
    "**Scope**\n",
    "- What is the specific scope of the project?\n",
    "- What, specifically, is NOT in scope?  (What are you not doing that someone might think you are doing?)\n",
    "Is the scope flexible?  In what way?"
   ]
  },
  {
   "cell_type": "code",
   "execution_count": null,
   "metadata": {},
   "outputs": [],
   "source": []
  },
  {
   "cell_type": "markdown",
   "metadata": {},
   "source": [
    "**Deliverables**\n",
    "- Report?\n",
    "- Reusable code?\n",
    "- Presentation?"
   ]
  },
  {
   "cell_type": "code",
   "execution_count": null,
   "metadata": {},
   "outputs": [],
   "source": []
  },
  {
   "cell_type": "markdown",
   "metadata": {},
   "source": [
    "**Success Criteria**\n",
    "- What, specifically, must be accomplished for this project to be a success?"
   ]
  },
  {
   "cell_type": "code",
   "execution_count": null,
   "metadata": {},
   "outputs": [],
   "source": []
  },
  {
   "cell_type": "markdown",
   "metadata": {},
   "source": [
    "**Solution Approach**\n",
    "- Is this a “one time” (throw away) solution?\n",
    "- Or will the solution become part of repeated process that is used and enhanced over time?"
   ]
  },
  {
   "cell_type": "code",
   "execution_count": null,
   "metadata": {},
   "outputs": [],
   "source": []
  },
  {
   "cell_type": "markdown",
   "metadata": {},
   "source": [
    "**Quality**\n",
    "- What level of Correctness or Confidence is needed?\n",
    "- Is this life-critical or are we looking for ‘directionally correct’ results?"
   ]
  },
  {
   "cell_type": "code",
   "execution_count": null,
   "metadata": {},
   "outputs": [],
   "source": []
  },
  {
   "cell_type": "markdown",
   "metadata": {},
   "source": [
    "**Constraints**\n",
    "- Are there legal / regulatory implications (privacy, security, liability, HIPAA, FERPA)?\n",
    "- Are there architectural constraints?"
   ]
  },
  {
   "cell_type": "code",
   "execution_count": null,
   "metadata": {},
   "outputs": [],
   "source": []
  },
  {
   "cell_type": "markdown",
   "metadata": {
    "tags": []
   },
   "source": [
    "**Time / Cost**\n",
    "- What is the deadline or budget?"
   ]
  },
  {
   "cell_type": "code",
   "execution_count": null,
   "metadata": {},
   "outputs": [],
   "source": []
  },
  {
   "cell_type": "markdown",
   "metadata": {
    "tags": []
   },
   "source": [
    "**Dependencies**\n",
    "- Is this project dependent on any other project or activity?\n",
    "- Is any other project or activity dependent on this project?"
   ]
  },
  {
   "cell_type": "code",
   "execution_count": null,
   "metadata": {},
   "outputs": [],
   "source": []
  },
  {
   "cell_type": "markdown",
   "metadata": {},
   "source": [
    "**Resources Needed**\n",
    "- Do you potentially need access to specific people, data, etc?"
   ]
  },
  {
   "cell_type": "code",
   "execution_count": null,
   "metadata": {},
   "outputs": [],
   "source": []
  },
  {
   "cell_type": "markdown",
   "metadata": {},
   "source": [
    "**Other Considerations**\n",
    "- What other considerations, not covered above, might be relevant?"
   ]
  },
  {
   "cell_type": "code",
   "execution_count": null,
   "metadata": {
    "tags": []
   },
   "outputs": [],
   "source": []
  },
  {
   "cell_type": "markdown",
   "metadata": {
    "tags": []
   },
   "source": [
    "***\n",
    "# Section: 2 - Data Understanding - **DO THIS!**\n",
    "- Perform exploratory data analysis of the dataset by looking at individual attributes and/or combinations of attributes. You should focus on identifying and describing interesting observations and insights that you might uncover from the data.\n",
    "- You should not simply provide the basic EDA information for all attributes in the data. Instead, you should focus on those that are more interesting or important, and provide some discussion of what you observe. Pay particular attention to potentially interesting bivariate (two-variable) relationships, as well as the relationship between each attribute and the class attribute (if this is a classification problem).\n",
    "- This step includes:\n",
    "  - Understanding what data might be available and relevant.\n",
    "  - Acquiring the data.\n",
    "  - Understanding the characteristics of the data (e.g., quality, completeness, currency, consistency,…).\n",
    "  - Understanding how other datasets might enhance or supplement the data (and acquiring that data as well).\n",
    "  - Possibly performing some initial analysis to build confidence that the overall direction is likely to be helpful to the business problem to be solved.\n",
    "\n",
    "**NOTE:** Frequently, a first pass is made through the data to fix or remove \"obvious\" data quality issues (missing values, duplicate records, outliers (some), etc.).  The deeper Data Understanding analysis then is done on the \"cleaned\" data.  This mitigates the issue of bad data skewing the data analysis results.  **You may choose to do this separate first pass.**\n",
    "***"
   ]
  },
  {
   "cell_type": "markdown",
   "metadata": {},
   "source": [
    "***\n",
    "## Section: 2.1 - Describe the meaning and type of data for each attribute.\n",
    "\n",
    "Identify the type of data for each attribute.\n",
    "  - Categorical: Nominal, Ordinal\n",
    "  - Numerical: Interval, Ratio\n",
    "  - Other: Complex or unstructured data (e.g., text strings, images,...)\n",
    "  \n",
    "NOTES:\n",
    "  - This determines what operations are \"meaningful\" for each attribute.  For example, you can't add two Ordinal attributes.\n",
    "  - You can't always tell the attribute types from the data itself.  For example, an Integer attribute could be Ordinal or Interval.\n",
    "\n",
    "Identify interesting characteristics of the data (e.g., quality, completeness, currency, consistency,…).\n",
    "  - Is this dataset relevant and appropriate for the goals of this project?\n",
    "    - If not, what could you do? (find other data to replace or supplement this dataset, etc.)\n",
    "***"
   ]
  },
  {
   "cell_type": "markdown",
   "metadata": {},
   "source": [
    "### **Examine the meta-data (e.g., from data dictionary) available for the dataset.**\n",
    "- Hint: Look at the \"variable information\" discussion below."
   ]
  },
  {
   "cell_type": "markdown",
   "metadata": {},
   "source": [
    "**Discussion:**\n",
    "\n",
    "Fill in..."
   ]
  },
  {
   "cell_type": "markdown",
   "metadata": {},
   "source": [
    "### **Load the Dataset.**"
   ]
  },
  {
   "cell_type": "code",
   "execution_count": 6,
   "metadata": {},
   "outputs": [],
   "source": [
    "# See the Import in Python button here: https://archive.ics.uci.edu/dataset/938/regensburg+pediatric+appendicitis\n",
    "#   and see: https://github.com/uci-ml-repo/ucimlrepo\n",
    "\n",
    "# Install this package (uncomment and run one time, then re-comment it out)\n",
    "#!pip install ucimlrepo"
   ]
  },
  {
   "cell_type": "code",
   "execution_count": 3,
   "metadata": {},
   "outputs": [],
   "source": [
    "from ucimlrepo import fetch_ucirepo \n",
    " \n",
    "# fetch dataset \n",
    "regensburg_pediatric_appendicitis = fetch_ucirepo(id=938) "
   ]
  },
  {
   "cell_type": "code",
   "execution_count": 4,
   "metadata": {},
   "outputs": [
    {
     "data": {
      "text/plain": [
       "{'uci_id': 938,\n",
       " 'name': 'Regensburg Pediatric Appendicitis',\n",
       " 'repository_url': 'https://archive.ics.uci.edu/dataset/938/regensburg+pediatric+appendicitis',\n",
       " 'data_url': 'https://archive.ics.uci.edu/static/public/938/data.csv',\n",
       " 'abstract': 'This repository holds the data from a cohort of pediatric patients with suspected appendicitis admitted with abdominal pain to Children’s Hospital St. Hedwig in Regensburg, Germany, between 2016 and 2021. Each patient has (potentially multiple) ultrasound (US) images, aka views, tabular data comprising laboratory, physical examination, scoring results and ultrasonographic findings extracted manually by the experts, and three target variables, namely, diagnosis, management and severity.',\n",
       " 'area': 'Health and Medicine',\n",
       " 'tasks': ['Classification'],\n",
       " 'characteristics': ['Tabular', 'Image'],\n",
       " 'num_instances': 782,\n",
       " 'num_features': 54,\n",
       " 'feature_types': ['Real', 'Categorical', 'Integer'],\n",
       " 'demographics': ['Age', 'Sex'],\n",
       " 'target_col': ['Management', 'Severity', 'Diagnosis'],\n",
       " 'index_col': None,\n",
       " 'has_missing_values': 'yes',\n",
       " 'missing_values_symbol': 'NaN',\n",
       " 'year_of_dataset_creation': 2023,\n",
       " 'last_updated': 'Thu Dec 07 2023',\n",
       " 'dataset_doi': '10.5281/zenodo.7669442',\n",
       " 'creators': ['Ricards Marcinkevics',\n",
       "  'Patricia Reis',\n",
       "  'Ugne Klimiene',\n",
       "  'Ece Ozkan',\n",
       "  'Kieran Chin-Cheong',\n",
       "  'Alyssia Paschke',\n",
       "  'Julia Zerres',\n",
       "  'Markus Denzinger',\n",
       "  'David Niederberger',\n",
       "  'S. Wellmann',\n",
       "  'C. Knorr',\n",
       "  'Julia E.'],\n",
       " 'intro_paper': {'title': 'Interpretable and Intervenable Ultrasonography-based Machine Learning Models for Pediatric Appendicitis',\n",
       "  'authors': 'Ricards Marcinkevics, Patricia Reis Wolfertstetter, Ugne Klimiene, Ece Ozkan, Kieran Chin-Cheong, Alyssia Paschke, Julia Zerres, Markus Denzinger, David Niederberger, S. Wellmann, C. Knorr, Julia E. Vogt',\n",
       "  'published_in': 'Medical Image Analysis',\n",
       "  'year': 2023,\n",
       "  'url': 'https://arxiv.org/abs/2302.14460v2',\n",
       "  'doi': None},\n",
       " 'additional_info': {'summary': 'This dataset was acquired in a retrospective study from a cohort of pediatric patients admitted with abdominal pain to Children’s Hospital St. Hedwig in Regensburg, Germany. Multiple abdominal B-mode ultrasound images were acquired for most patients, with the number of views varying from 1 to 15. The images depict various regions of interest, such as the abdomen’s right lower quadrant, appendix, intestines, lymph nodes and reproductive organs. Alongside multiple US images for each subject, the dataset includes information encompassing laboratory tests, physical examination results, clinical scores, such as Alvarado and pediatric appendicitis scores, and expert-produced ultrasonographic findings. Lastly, the subjects were labeled w.r.t. three target variables: diagnosis (appendicitis vs. no appendicitis), management (surgical vs. conservative) and severity (complicated vs. uncomplicated or no appendicitis). The study was approved by the Ethics Committee of the University of Regensburg (no. 18-1063-101, 18-1063_1-101 and 18-1063_2-101) and was performed following applicable guidelines and regulations.',\n",
       "  'purpose': None,\n",
       "  'funded_by': None,\n",
       "  'instances_represent': None,\n",
       "  'recommended_data_splits': None,\n",
       "  'sensitive_data': None,\n",
       "  'preprocessing_description': None,\n",
       "  'variable_info': None,\n",
       "  'citation': None},\n",
       " 'external_url': 'https://zenodo.org/records/7669442'}"
      ]
     },
     "metadata": {},
     "output_type": "display_data"
    },
    {
     "data": {
      "text/html": [
       "<div>\n",
       "<style scoped>\n",
       "    .dataframe tbody tr th:only-of-type {\n",
       "        vertical-align: middle;\n",
       "    }\n",
       "\n",
       "    .dataframe tbody tr th {\n",
       "        vertical-align: top;\n",
       "    }\n",
       "\n",
       "    .dataframe thead th {\n",
       "        text-align: right;\n",
       "    }\n",
       "</style>\n",
       "<table border=\"1\" class=\"dataframe\">\n",
       "  <thead>\n",
       "    <tr style=\"text-align: right;\">\n",
       "      <th></th>\n",
       "      <th>name</th>\n",
       "      <th>role</th>\n",
       "      <th>type</th>\n",
       "      <th>demographic</th>\n",
       "      <th>description</th>\n",
       "      <th>units</th>\n",
       "      <th>missing_values</th>\n",
       "    </tr>\n",
       "  </thead>\n",
       "  <tbody>\n",
       "    <tr>\n",
       "      <th>0</th>\n",
       "      <td>Age</td>\n",
       "      <td>Feature</td>\n",
       "      <td>Continuous</td>\n",
       "      <td>Age</td>\n",
       "      <td>Obtained from the date of birth</td>\n",
       "      <td>years</td>\n",
       "      <td>yes</td>\n",
       "    </tr>\n",
       "    <tr>\n",
       "      <th>1</th>\n",
       "      <td>BMI</td>\n",
       "      <td>Feature</td>\n",
       "      <td>Continuous</td>\n",
       "      <td>None</td>\n",
       "      <td>Measures body fat; patient's weight divided by...</td>\n",
       "      <td>None</td>\n",
       "      <td>yes</td>\n",
       "    </tr>\n",
       "    <tr>\n",
       "      <th>2</th>\n",
       "      <td>Sex</td>\n",
       "      <td>Feature</td>\n",
       "      <td>Categorical</td>\n",
       "      <td>Sex</td>\n",
       "      <td>Registered gender</td>\n",
       "      <td>None</td>\n",
       "      <td>yes</td>\n",
       "    </tr>\n",
       "    <tr>\n",
       "      <th>3</th>\n",
       "      <td>Height</td>\n",
       "      <td>Feature</td>\n",
       "      <td>Continuous</td>\n",
       "      <td>None</td>\n",
       "      <td>Patient's height</td>\n",
       "      <td>None</td>\n",
       "      <td>yes</td>\n",
       "    </tr>\n",
       "    <tr>\n",
       "      <th>4</th>\n",
       "      <td>Weight</td>\n",
       "      <td>Feature</td>\n",
       "      <td>Integer</td>\n",
       "      <td>None</td>\n",
       "      <td>Patient's weight</td>\n",
       "      <td>None</td>\n",
       "      <td>yes</td>\n",
       "    </tr>\n",
       "    <tr>\n",
       "      <th>5</th>\n",
       "      <td>Length_of_Stay</td>\n",
       "      <td>Feature</td>\n",
       "      <td>Integer</td>\n",
       "      <td>None</td>\n",
       "      <td>Length of the stay in the hospital</td>\n",
       "      <td>None</td>\n",
       "      <td>yes</td>\n",
       "    </tr>\n",
       "    <tr>\n",
       "      <th>6</th>\n",
       "      <td>Management</td>\n",
       "      <td>Target</td>\n",
       "      <td>Categorical</td>\n",
       "      <td>None</td>\n",
       "      <td>(conservative, primary surgical, secondary sur...</td>\n",
       "      <td>None</td>\n",
       "      <td>yes</td>\n",
       "    </tr>\n",
       "    <tr>\n",
       "      <th>7</th>\n",
       "      <td>Severity</td>\n",
       "      <td>Target</td>\n",
       "      <td>Categorical</td>\n",
       "      <td>None</td>\n",
       "      <td>(uncomplicated, complicated) Severity of appen...</td>\n",
       "      <td>None</td>\n",
       "      <td>yes</td>\n",
       "    </tr>\n",
       "    <tr>\n",
       "      <th>8</th>\n",
       "      <td>Diagnosis_Presumptive</td>\n",
       "      <td>Other</td>\n",
       "      <td>Binary</td>\n",
       "      <td>None</td>\n",
       "      <td>Patient's suspected diagnosis</td>\n",
       "      <td>None</td>\n",
       "      <td>yes</td>\n",
       "    </tr>\n",
       "    <tr>\n",
       "      <th>9</th>\n",
       "      <td>Diagnosis</td>\n",
       "      <td>Target</td>\n",
       "      <td>Binary</td>\n",
       "      <td>None</td>\n",
       "      <td>Patient's diagnosis, histologically confirmed ...</td>\n",
       "      <td>None</td>\n",
       "      <td>yes</td>\n",
       "    </tr>\n",
       "    <tr>\n",
       "      <th>10</th>\n",
       "      <td>Alvarado_Score</td>\n",
       "      <td>Feature</td>\n",
       "      <td>Integer</td>\n",
       "      <td>None</td>\n",
       "      <td>Patient's score according to the scoring system</td>\n",
       "      <td>None</td>\n",
       "      <td>yes</td>\n",
       "    </tr>\n",
       "    <tr>\n",
       "      <th>11</th>\n",
       "      <td>Paedriatic_Appendicitis_Score</td>\n",
       "      <td>Feature</td>\n",
       "      <td>Integer</td>\n",
       "      <td>None</td>\n",
       "      <td>Patient's score according to the scoring system</td>\n",
       "      <td>None</td>\n",
       "      <td>yes</td>\n",
       "    </tr>\n",
       "    <tr>\n",
       "      <th>12</th>\n",
       "      <td>Appendix_on_US</td>\n",
       "      <td>Feature</td>\n",
       "      <td>Binary</td>\n",
       "      <td>None</td>\n",
       "      <td>Detectability of the vermiform appendix during...</td>\n",
       "      <td>None</td>\n",
       "      <td>yes</td>\n",
       "    </tr>\n",
       "    <tr>\n",
       "      <th>13</th>\n",
       "      <td>Appendix_Diameter</td>\n",
       "      <td>Feature</td>\n",
       "      <td>Integer</td>\n",
       "      <td>None</td>\n",
       "      <td>Maximal outer diameter of the appendix</td>\n",
       "      <td>None</td>\n",
       "      <td>yes</td>\n",
       "    </tr>\n",
       "    <tr>\n",
       "      <th>14</th>\n",
       "      <td>Migratory_Pain</td>\n",
       "      <td>Feature</td>\n",
       "      <td>Binary</td>\n",
       "      <td>None</td>\n",
       "      <td>Abdominal pain; usually starts in epigastrium ...</td>\n",
       "      <td>None</td>\n",
       "      <td>yes</td>\n",
       "    </tr>\n",
       "    <tr>\n",
       "      <th>15</th>\n",
       "      <td>Lower_Right_Abd_Pain</td>\n",
       "      <td>Feature</td>\n",
       "      <td>Binary</td>\n",
       "      <td>None</td>\n",
       "      <td>Right iliac fossa pain detected on palpation</td>\n",
       "      <td>None</td>\n",
       "      <td>yes</td>\n",
       "    </tr>\n",
       "    <tr>\n",
       "      <th>16</th>\n",
       "      <td>Contralateral_Rebound_Tenderness</td>\n",
       "      <td>Feature</td>\n",
       "      <td>Binary</td>\n",
       "      <td>None</td>\n",
       "      <td>A state in which pain of the contralateral sid...</td>\n",
       "      <td>None</td>\n",
       "      <td>yes</td>\n",
       "    </tr>\n",
       "    <tr>\n",
       "      <th>17</th>\n",
       "      <td>Coughing_Pain</td>\n",
       "      <td>Feature</td>\n",
       "      <td>Binary</td>\n",
       "      <td>None</td>\n",
       "      <td>Abdominal pain by forced cough</td>\n",
       "      <td>None</td>\n",
       "      <td>yes</td>\n",
       "    </tr>\n",
       "    <tr>\n",
       "      <th>18</th>\n",
       "      <td>Nausea</td>\n",
       "      <td>Feature</td>\n",
       "      <td>Binary</td>\n",
       "      <td>None</td>\n",
       "      <td>Feeling of sickness/ejection of contents from ...</td>\n",
       "      <td>None</td>\n",
       "      <td>yes</td>\n",
       "    </tr>\n",
       "    <tr>\n",
       "      <th>19</th>\n",
       "      <td>Loss_of_Appetite</td>\n",
       "      <td>Feature</td>\n",
       "      <td>Binary</td>\n",
       "      <td>None</td>\n",
       "      <td>None</td>\n",
       "      <td>None</td>\n",
       "      <td>yes</td>\n",
       "    </tr>\n",
       "    <tr>\n",
       "      <th>20</th>\n",
       "      <td>Body_Temperature</td>\n",
       "      <td>Feature</td>\n",
       "      <td>Continuous</td>\n",
       "      <td>None</td>\n",
       "      <td>Measured by a thermometer placed in the rectum...</td>\n",
       "      <td>None</td>\n",
       "      <td>yes</td>\n",
       "    </tr>\n",
       "    <tr>\n",
       "      <th>21</th>\n",
       "      <td>WBC_Count</td>\n",
       "      <td>Feature</td>\n",
       "      <td>Continuous</td>\n",
       "      <td>None</td>\n",
       "      <td>The number of leucocytes in a unit volume of b...</td>\n",
       "      <td>None</td>\n",
       "      <td>yes</td>\n",
       "    </tr>\n",
       "    <tr>\n",
       "      <th>22</th>\n",
       "      <td>Neutrophil_Percentage</td>\n",
       "      <td>Feature</td>\n",
       "      <td>Integer</td>\n",
       "      <td>None</td>\n",
       "      <td>Mature WBC in the granulocytic series</td>\n",
       "      <td>None</td>\n",
       "      <td>yes</td>\n",
       "    </tr>\n",
       "    <tr>\n",
       "      <th>23</th>\n",
       "      <td>Segmented_Neutrophils</td>\n",
       "      <td>Feature</td>\n",
       "      <td>Integer</td>\n",
       "      <td>None</td>\n",
       "      <td>Most mature neutrophilic granulocytes present ...</td>\n",
       "      <td>None</td>\n",
       "      <td>yes</td>\n",
       "    </tr>\n",
       "    <tr>\n",
       "      <th>24</th>\n",
       "      <td>Neutrophilia</td>\n",
       "      <td>Feature</td>\n",
       "      <td>Categorical</td>\n",
       "      <td>None</td>\n",
       "      <td>Relative neutrophilic leucocytosis, often a re...</td>\n",
       "      <td>None</td>\n",
       "      <td>yes</td>\n",
       "    </tr>\n",
       "    <tr>\n",
       "      <th>25</th>\n",
       "      <td>RBC_Count</td>\n",
       "      <td>Feature</td>\n",
       "      <td>Continuous</td>\n",
       "      <td>None</td>\n",
       "      <td>The number of erythrocytes in a unit volume of...</td>\n",
       "      <td>None</td>\n",
       "      <td>yes</td>\n",
       "    </tr>\n",
       "    <tr>\n",
       "      <th>26</th>\n",
       "      <td>Hemoglobin</td>\n",
       "      <td>Feature</td>\n",
       "      <td>Continuous</td>\n",
       "      <td>None</td>\n",
       "      <td>Hemoglobin level; a red protein in the red blo...</td>\n",
       "      <td>None</td>\n",
       "      <td>yes</td>\n",
       "    </tr>\n",
       "    <tr>\n",
       "      <th>27</th>\n",
       "      <td>RDW</td>\n",
       "      <td>Feature</td>\n",
       "      <td>Continuous</td>\n",
       "      <td>None</td>\n",
       "      <td>A blood test that measures the differences in ...</td>\n",
       "      <td>None</td>\n",
       "      <td>yes</td>\n",
       "    </tr>\n",
       "    <tr>\n",
       "      <th>28</th>\n",
       "      <td>Thrombocyte_Count</td>\n",
       "      <td>Feature</td>\n",
       "      <td>Integer</td>\n",
       "      <td>None</td>\n",
       "      <td>The number of platelets in a unit volume of blood</td>\n",
       "      <td>None</td>\n",
       "      <td>yes</td>\n",
       "    </tr>\n",
       "    <tr>\n",
       "      <th>29</th>\n",
       "      <td>Ketones_in_Urine</td>\n",
       "      <td>Feature</td>\n",
       "      <td>Categorical</td>\n",
       "      <td>None</td>\n",
       "      <td>Presence of ketone bodies in urine, e.g. in ca...</td>\n",
       "      <td>None</td>\n",
       "      <td>yes</td>\n",
       "    </tr>\n",
       "    <tr>\n",
       "      <th>30</th>\n",
       "      <td>RBC_in_Urine</td>\n",
       "      <td>Feature</td>\n",
       "      <td>Categorical</td>\n",
       "      <td>None</td>\n",
       "      <td>Blood in urine</td>\n",
       "      <td>None</td>\n",
       "      <td>yes</td>\n",
       "    </tr>\n",
       "    <tr>\n",
       "      <th>31</th>\n",
       "      <td>WBC_in_Urine</td>\n",
       "      <td>Feature</td>\n",
       "      <td>Categorical</td>\n",
       "      <td>None</td>\n",
       "      <td>Leucocytes in urine, e.g., in case of infection</td>\n",
       "      <td>None</td>\n",
       "      <td>yes</td>\n",
       "    </tr>\n",
       "    <tr>\n",
       "      <th>32</th>\n",
       "      <td>CRP</td>\n",
       "      <td>Feature</td>\n",
       "      <td>Integer</td>\n",
       "      <td>None</td>\n",
       "      <td>Protein produced by the liver, elevated in cas...</td>\n",
       "      <td>None</td>\n",
       "      <td>yes</td>\n",
       "    </tr>\n",
       "    <tr>\n",
       "      <th>33</th>\n",
       "      <td>Dysuria</td>\n",
       "      <td>Feature</td>\n",
       "      <td>Binary</td>\n",
       "      <td>None</td>\n",
       "      <td>Pain or other difficulty during urination</td>\n",
       "      <td>None</td>\n",
       "      <td>yes</td>\n",
       "    </tr>\n",
       "    <tr>\n",
       "      <th>34</th>\n",
       "      <td>Stool</td>\n",
       "      <td>Feature</td>\n",
       "      <td>Categorical</td>\n",
       "      <td>None</td>\n",
       "      <td>Characteristics of bowel movements</td>\n",
       "      <td>None</td>\n",
       "      <td>yes</td>\n",
       "    </tr>\n",
       "    <tr>\n",
       "      <th>35</th>\n",
       "      <td>Peritonitis</td>\n",
       "      <td>Feature</td>\n",
       "      <td>Categorical</td>\n",
       "      <td>None</td>\n",
       "      <td>Spasm of abdominal wall muscles detected on pa...</td>\n",
       "      <td>None</td>\n",
       "      <td>yes</td>\n",
       "    </tr>\n",
       "    <tr>\n",
       "      <th>36</th>\n",
       "      <td>Psoas_Sign</td>\n",
       "      <td>Feature</td>\n",
       "      <td>Categorical</td>\n",
       "      <td>None</td>\n",
       "      <td>Abdominal pain produced by extension of the hip</td>\n",
       "      <td>None</td>\n",
       "      <td>yes</td>\n",
       "    </tr>\n",
       "    <tr>\n",
       "      <th>37</th>\n",
       "      <td>Ipsilateral_Rebound_Tenderness</td>\n",
       "      <td>Feature</td>\n",
       "      <td>Categorical</td>\n",
       "      <td>None</td>\n",
       "      <td>A state in which pain of the ipsilateral side ...</td>\n",
       "      <td>None</td>\n",
       "      <td>yes</td>\n",
       "    </tr>\n",
       "    <tr>\n",
       "      <th>38</th>\n",
       "      <td>US_Performed</td>\n",
       "      <td>Feature</td>\n",
       "      <td>Categorical</td>\n",
       "      <td>None</td>\n",
       "      <td>If an abdominal ultrasonography was performed ...</td>\n",
       "      <td>None</td>\n",
       "      <td>yes</td>\n",
       "    </tr>\n",
       "    <tr>\n",
       "      <th>39</th>\n",
       "      <td>US_Number</td>\n",
       "      <td>Feature</td>\n",
       "      <td>Integer</td>\n",
       "      <td>None</td>\n",
       "      <td>None</td>\n",
       "      <td>None</td>\n",
       "      <td>yes</td>\n",
       "    </tr>\n",
       "    <tr>\n",
       "      <th>40</th>\n",
       "      <td>Free_Fluids</td>\n",
       "      <td>Feature</td>\n",
       "      <td>Categorical</td>\n",
       "      <td>None</td>\n",
       "      <td>Free fluids inside the abdomen</td>\n",
       "      <td>None</td>\n",
       "      <td>yes</td>\n",
       "    </tr>\n",
       "    <tr>\n",
       "      <th>41</th>\n",
       "      <td>Appendix_Wall_Layers</td>\n",
       "      <td>Feature</td>\n",
       "      <td>Categorical</td>\n",
       "      <td>None</td>\n",
       "      <td>Distribution and characteristics of appendix l...</td>\n",
       "      <td>None</td>\n",
       "      <td>yes</td>\n",
       "    </tr>\n",
       "    <tr>\n",
       "      <th>42</th>\n",
       "      <td>Target_Sign</td>\n",
       "      <td>Feature</td>\n",
       "      <td>Categorical</td>\n",
       "      <td>None</td>\n",
       "      <td>Axial image of appendix with a fluid-filled ce...</td>\n",
       "      <td>None</td>\n",
       "      <td>yes</td>\n",
       "    </tr>\n",
       "    <tr>\n",
       "      <th>43</th>\n",
       "      <td>Appendicolith</td>\n",
       "      <td>Feature</td>\n",
       "      <td>Categorical</td>\n",
       "      <td>None</td>\n",
       "      <td>Presence of fecalith in the appendix, e.g. aco...</td>\n",
       "      <td>None</td>\n",
       "      <td>yes</td>\n",
       "    </tr>\n",
       "    <tr>\n",
       "      <th>44</th>\n",
       "      <td>Perfusion</td>\n",
       "      <td>Feature</td>\n",
       "      <td>Categorical</td>\n",
       "      <td>None</td>\n",
       "      <td>Blood flow to the appendix wall</td>\n",
       "      <td>None</td>\n",
       "      <td>yes</td>\n",
       "    </tr>\n",
       "    <tr>\n",
       "      <th>45</th>\n",
       "      <td>Perforation</td>\n",
       "      <td>Feature</td>\n",
       "      <td>Categorical</td>\n",
       "      <td>None</td>\n",
       "      <td>Signs of appendix perforation in US</td>\n",
       "      <td>None</td>\n",
       "      <td>yes</td>\n",
       "    </tr>\n",
       "    <tr>\n",
       "      <th>46</th>\n",
       "      <td>Surrounding_Tissue_Reaction</td>\n",
       "      <td>Feature</td>\n",
       "      <td>Categorical</td>\n",
       "      <td>None</td>\n",
       "      <td>Inflammation signs in tissue (i.a. in omentum/...</td>\n",
       "      <td>None</td>\n",
       "      <td>yes</td>\n",
       "    </tr>\n",
       "    <tr>\n",
       "      <th>47</th>\n",
       "      <td>Appendicular_Abscess</td>\n",
       "      <td>Feature</td>\n",
       "      <td>Categorical</td>\n",
       "      <td>None</td>\n",
       "      <td>Appendiceal mass</td>\n",
       "      <td>None</td>\n",
       "      <td>yes</td>\n",
       "    </tr>\n",
       "    <tr>\n",
       "      <th>48</th>\n",
       "      <td>Abscess_Location</td>\n",
       "      <td>Feature</td>\n",
       "      <td>Categorical</td>\n",
       "      <td>None</td>\n",
       "      <td>Location of the abcess intraperitoneal</td>\n",
       "      <td>None</td>\n",
       "      <td>yes</td>\n",
       "    </tr>\n",
       "    <tr>\n",
       "      <th>49</th>\n",
       "      <td>Pathological_Lymph_Nodes</td>\n",
       "      <td>Feature</td>\n",
       "      <td>Binary</td>\n",
       "      <td>None</td>\n",
       "      <td>Enlarged and inflamed intra-abdominal lymph nodes</td>\n",
       "      <td>None</td>\n",
       "      <td>yes</td>\n",
       "    </tr>\n",
       "    <tr>\n",
       "      <th>50</th>\n",
       "      <td>Lymph_Nodes_Location</td>\n",
       "      <td>Feature</td>\n",
       "      <td>Categorical</td>\n",
       "      <td>None</td>\n",
       "      <td>The location of pathological lymph nodes in th...</td>\n",
       "      <td>None</td>\n",
       "      <td>yes</td>\n",
       "    </tr>\n",
       "    <tr>\n",
       "      <th>51</th>\n",
       "      <td>Bowel_Wall_Thickening</td>\n",
       "      <td>Feature</td>\n",
       "      <td>Binary</td>\n",
       "      <td>None</td>\n",
       "      <td>Edema of the intestinal wall, &gt; 2-3 mm for sma...</td>\n",
       "      <td>None</td>\n",
       "      <td>yes</td>\n",
       "    </tr>\n",
       "    <tr>\n",
       "      <th>52</th>\n",
       "      <td>Conglomerate_of_Bowel_Loops</td>\n",
       "      <td>Feature</td>\n",
       "      <td>Binary</td>\n",
       "      <td>None</td>\n",
       "      <td>Small intestine conglomerate as sign of intrap...</td>\n",
       "      <td>None</td>\n",
       "      <td>yes</td>\n",
       "    </tr>\n",
       "    <tr>\n",
       "      <th>53</th>\n",
       "      <td>Ileus</td>\n",
       "      <td>Feature</td>\n",
       "      <td>Categorical</td>\n",
       "      <td>None</td>\n",
       "      <td>Sonographic signs of paralytic ileus (e.g., di...</td>\n",
       "      <td>None</td>\n",
       "      <td>yes</td>\n",
       "    </tr>\n",
       "    <tr>\n",
       "      <th>54</th>\n",
       "      <td>Coprostasis</td>\n",
       "      <td>Feature</td>\n",
       "      <td>Categorical</td>\n",
       "      <td>None</td>\n",
       "      <td>Fecal impaction in the colon</td>\n",
       "      <td>None</td>\n",
       "      <td>yes</td>\n",
       "    </tr>\n",
       "    <tr>\n",
       "      <th>55</th>\n",
       "      <td>Meteorism</td>\n",
       "      <td>Feature</td>\n",
       "      <td>Categorical</td>\n",
       "      <td>None</td>\n",
       "      <td>Accumulation of gas in the intestine</td>\n",
       "      <td>None</td>\n",
       "      <td>yes</td>\n",
       "    </tr>\n",
       "    <tr>\n",
       "      <th>56</th>\n",
       "      <td>Enteritis</td>\n",
       "      <td>Feature</td>\n",
       "      <td>Categorical</td>\n",
       "      <td>None</td>\n",
       "      <td>Sonographic features of gastroenteritis, e.g. ...</td>\n",
       "      <td>None</td>\n",
       "      <td>yes</td>\n",
       "    </tr>\n",
       "    <tr>\n",
       "      <th>57</th>\n",
       "      <td>Gynecological_Findings</td>\n",
       "      <td>Feature</td>\n",
       "      <td>Categorical</td>\n",
       "      <td>None</td>\n",
       "      <td>Gynaecological abnormalities, e.g. cysts, ovar...</td>\n",
       "      <td>None</td>\n",
       "      <td>yes</td>\n",
       "    </tr>\n",
       "  </tbody>\n",
       "</table>\n",
       "</div>"
      ],
      "text/plain": [
       "                                name     role         type demographic  \\\n",
       "0                                Age  Feature   Continuous         Age   \n",
       "1                                BMI  Feature   Continuous        None   \n",
       "2                                Sex  Feature  Categorical         Sex   \n",
       "3                             Height  Feature   Continuous        None   \n",
       "4                             Weight  Feature      Integer        None   \n",
       "5                     Length_of_Stay  Feature      Integer        None   \n",
       "6                         Management   Target  Categorical        None   \n",
       "7                           Severity   Target  Categorical        None   \n",
       "8              Diagnosis_Presumptive    Other       Binary        None   \n",
       "9                          Diagnosis   Target       Binary        None   \n",
       "10                    Alvarado_Score  Feature      Integer        None   \n",
       "11     Paedriatic_Appendicitis_Score  Feature      Integer        None   \n",
       "12                    Appendix_on_US  Feature       Binary        None   \n",
       "13                 Appendix_Diameter  Feature      Integer        None   \n",
       "14                    Migratory_Pain  Feature       Binary        None   \n",
       "15              Lower_Right_Abd_Pain  Feature       Binary        None   \n",
       "16  Contralateral_Rebound_Tenderness  Feature       Binary        None   \n",
       "17                     Coughing_Pain  Feature       Binary        None   \n",
       "18                            Nausea  Feature       Binary        None   \n",
       "19                  Loss_of_Appetite  Feature       Binary        None   \n",
       "20                  Body_Temperature  Feature   Continuous        None   \n",
       "21                         WBC_Count  Feature   Continuous        None   \n",
       "22             Neutrophil_Percentage  Feature      Integer        None   \n",
       "23             Segmented_Neutrophils  Feature      Integer        None   \n",
       "24                      Neutrophilia  Feature  Categorical        None   \n",
       "25                         RBC_Count  Feature   Continuous        None   \n",
       "26                        Hemoglobin  Feature   Continuous        None   \n",
       "27                               RDW  Feature   Continuous        None   \n",
       "28                 Thrombocyte_Count  Feature      Integer        None   \n",
       "29                  Ketones_in_Urine  Feature  Categorical        None   \n",
       "30                      RBC_in_Urine  Feature  Categorical        None   \n",
       "31                      WBC_in_Urine  Feature  Categorical        None   \n",
       "32                               CRP  Feature      Integer        None   \n",
       "33                           Dysuria  Feature       Binary        None   \n",
       "34                             Stool  Feature  Categorical        None   \n",
       "35                       Peritonitis  Feature  Categorical        None   \n",
       "36                        Psoas_Sign  Feature  Categorical        None   \n",
       "37    Ipsilateral_Rebound_Tenderness  Feature  Categorical        None   \n",
       "38                      US_Performed  Feature  Categorical        None   \n",
       "39                         US_Number  Feature      Integer        None   \n",
       "40                       Free_Fluids  Feature  Categorical        None   \n",
       "41              Appendix_Wall_Layers  Feature  Categorical        None   \n",
       "42                       Target_Sign  Feature  Categorical        None   \n",
       "43                     Appendicolith  Feature  Categorical        None   \n",
       "44                         Perfusion  Feature  Categorical        None   \n",
       "45                       Perforation  Feature  Categorical        None   \n",
       "46       Surrounding_Tissue_Reaction  Feature  Categorical        None   \n",
       "47              Appendicular_Abscess  Feature  Categorical        None   \n",
       "48                  Abscess_Location  Feature  Categorical        None   \n",
       "49          Pathological_Lymph_Nodes  Feature       Binary        None   \n",
       "50              Lymph_Nodes_Location  Feature  Categorical        None   \n",
       "51             Bowel_Wall_Thickening  Feature       Binary        None   \n",
       "52       Conglomerate_of_Bowel_Loops  Feature       Binary        None   \n",
       "53                             Ileus  Feature  Categorical        None   \n",
       "54                       Coprostasis  Feature  Categorical        None   \n",
       "55                         Meteorism  Feature  Categorical        None   \n",
       "56                         Enteritis  Feature  Categorical        None   \n",
       "57            Gynecological_Findings  Feature  Categorical        None   \n",
       "\n",
       "                                          description  units missing_values  \n",
       "0                     Obtained from the date of birth  years            yes  \n",
       "1   Measures body fat; patient's weight divided by...   None            yes  \n",
       "2                                   Registered gender   None            yes  \n",
       "3                                    Patient's height   None            yes  \n",
       "4                                    Patient's weight   None            yes  \n",
       "5                  Length of the stay in the hospital   None            yes  \n",
       "6   (conservative, primary surgical, secondary sur...   None            yes  \n",
       "7   (uncomplicated, complicated) Severity of appen...   None            yes  \n",
       "8                       Patient's suspected diagnosis   None            yes  \n",
       "9   Patient's diagnosis, histologically confirmed ...   None            yes  \n",
       "10    Patient's score according to the scoring system   None            yes  \n",
       "11    Patient's score according to the scoring system   None            yes  \n",
       "12  Detectability of the vermiform appendix during...   None            yes  \n",
       "13             Maximal outer diameter of the appendix   None            yes  \n",
       "14  Abdominal pain; usually starts in epigastrium ...   None            yes  \n",
       "15       Right iliac fossa pain detected on palpation   None            yes  \n",
       "16  A state in which pain of the contralateral sid...   None            yes  \n",
       "17                     Abdominal pain by forced cough   None            yes  \n",
       "18  Feeling of sickness/ejection of contents from ...   None            yes  \n",
       "19                                               None   None            yes  \n",
       "20  Measured by a thermometer placed in the rectum...   None            yes  \n",
       "21  The number of leucocytes in a unit volume of b...   None            yes  \n",
       "22              Mature WBC in the granulocytic series   None            yes  \n",
       "23  Most mature neutrophilic granulocytes present ...   None            yes  \n",
       "24  Relative neutrophilic leucocytosis, often a re...   None            yes  \n",
       "25  The number of erythrocytes in a unit volume of...   None            yes  \n",
       "26  Hemoglobin level; a red protein in the red blo...   None            yes  \n",
       "27  A blood test that measures the differences in ...   None            yes  \n",
       "28  The number of platelets in a unit volume of blood   None            yes  \n",
       "29  Presence of ketone bodies in urine, e.g. in ca...   None            yes  \n",
       "30                                     Blood in urine   None            yes  \n",
       "31    Leucocytes in urine, e.g., in case of infection   None            yes  \n",
       "32  Protein produced by the liver, elevated in cas...   None            yes  \n",
       "33          Pain or other difficulty during urination   None            yes  \n",
       "34                 Characteristics of bowel movements   None            yes  \n",
       "35  Spasm of abdominal wall muscles detected on pa...   None            yes  \n",
       "36    Abdominal pain produced by extension of the hip   None            yes  \n",
       "37  A state in which pain of the ipsilateral side ...   None            yes  \n",
       "38  If an abdominal ultrasonography was performed ...   None            yes  \n",
       "39                                               None   None            yes  \n",
       "40                     Free fluids inside the abdomen   None            yes  \n",
       "41  Distribution and characteristics of appendix l...   None            yes  \n",
       "42  Axial image of appendix with a fluid-filled ce...   None            yes  \n",
       "43  Presence of fecalith in the appendix, e.g. aco...   None            yes  \n",
       "44                    Blood flow to the appendix wall   None            yes  \n",
       "45                Signs of appendix perforation in US   None            yes  \n",
       "46  Inflammation signs in tissue (i.a. in omentum/...   None            yes  \n",
       "47                                   Appendiceal mass   None            yes  \n",
       "48             Location of the abcess intraperitoneal   None            yes  \n",
       "49  Enlarged and inflamed intra-abdominal lymph nodes   None            yes  \n",
       "50  The location of pathological lymph nodes in th...   None            yes  \n",
       "51  Edema of the intestinal wall, > 2-3 mm for sma...   None            yes  \n",
       "52  Small intestine conglomerate as sign of intrap...   None            yes  \n",
       "53  Sonographic signs of paralytic ileus (e.g., di...   None            yes  \n",
       "54                       Fecal impaction in the colon   None            yes  \n",
       "55               Accumulation of gas in the intestine   None            yes  \n",
       "56  Sonographic features of gastroenteritis, e.g. ...   None            yes  \n",
       "57  Gynaecological abnormalities, e.g. cysts, ovar...   None            yes  "
      ]
     },
     "metadata": {},
     "output_type": "display_data"
    }
   ],
   "source": [
    "# # Miscellaneous things you could do...\n",
    "\n",
    "# # Get X and y data (as pandas dataframes) \n",
    "X = regensburg_pediatric_appendicitis.data.features \n",
    "y = regensburg_pediatric_appendicitis.data.targets \n",
    "\n",
    "# # Show metadata \n",
    "display(regensburg_pediatric_appendicitis.metadata)\n",
    "\n",
    "# # Show variable information \n",
    "display(regensburg_pediatric_appendicitis.variables)"
   ]
  },
  {
   "cell_type": "code",
   "execution_count": 5,
   "metadata": {
    "tags": []
   },
   "outputs": [
    {
     "data": {
      "text/html": [
       "<div>\n",
       "<style scoped>\n",
       "    .dataframe tbody tr th:only-of-type {\n",
       "        vertical-align: middle;\n",
       "    }\n",
       "\n",
       "    .dataframe tbody tr th {\n",
       "        vertical-align: top;\n",
       "    }\n",
       "\n",
       "    .dataframe thead th {\n",
       "        text-align: right;\n",
       "    }\n",
       "</style>\n",
       "<table border=\"1\" class=\"dataframe\">\n",
       "  <thead>\n",
       "    <tr style=\"text-align: right;\">\n",
       "      <th></th>\n",
       "      <th>Age</th>\n",
       "      <th>BMI</th>\n",
       "      <th>Sex</th>\n",
       "      <th>Height</th>\n",
       "      <th>Weight</th>\n",
       "      <th>Length_of_Stay</th>\n",
       "      <th>Management</th>\n",
       "      <th>Severity</th>\n",
       "      <th>Diagnosis_Presumptive</th>\n",
       "      <th>Diagnosis</th>\n",
       "      <th>...</th>\n",
       "      <th>Abscess_Location</th>\n",
       "      <th>Pathological_Lymph_Nodes</th>\n",
       "      <th>Lymph_Nodes_Location</th>\n",
       "      <th>Bowel_Wall_Thickening</th>\n",
       "      <th>Conglomerate_of_Bowel_Loops</th>\n",
       "      <th>Ileus</th>\n",
       "      <th>Coprostasis</th>\n",
       "      <th>Meteorism</th>\n",
       "      <th>Enteritis</th>\n",
       "      <th>Gynecological_Findings</th>\n",
       "    </tr>\n",
       "  </thead>\n",
       "  <tbody>\n",
       "    <tr>\n",
       "      <th>0</th>\n",
       "      <td>12.68</td>\n",
       "      <td>16.9</td>\n",
       "      <td>female</td>\n",
       "      <td>148.0</td>\n",
       "      <td>37.0</td>\n",
       "      <td>3.0</td>\n",
       "      <td>conservative</td>\n",
       "      <td>uncomplicated</td>\n",
       "      <td>appendicitis</td>\n",
       "      <td>appendicitis</td>\n",
       "      <td>...</td>\n",
       "      <td>NaN</td>\n",
       "      <td>yes</td>\n",
       "      <td>reUB</td>\n",
       "      <td>NaN</td>\n",
       "      <td>NaN</td>\n",
       "      <td>NaN</td>\n",
       "      <td>NaN</td>\n",
       "      <td>NaN</td>\n",
       "      <td>NaN</td>\n",
       "      <td>NaN</td>\n",
       "    </tr>\n",
       "    <tr>\n",
       "      <th>1</th>\n",
       "      <td>14.10</td>\n",
       "      <td>31.9</td>\n",
       "      <td>male</td>\n",
       "      <td>147.0</td>\n",
       "      <td>69.5</td>\n",
       "      <td>2.0</td>\n",
       "      <td>conservative</td>\n",
       "      <td>uncomplicated</td>\n",
       "      <td>appendicitis</td>\n",
       "      <td>no appendicitis</td>\n",
       "      <td>...</td>\n",
       "      <td>NaN</td>\n",
       "      <td>NaN</td>\n",
       "      <td>NaN</td>\n",
       "      <td>NaN</td>\n",
       "      <td>NaN</td>\n",
       "      <td>NaN</td>\n",
       "      <td>NaN</td>\n",
       "      <td>yes</td>\n",
       "      <td>NaN</td>\n",
       "      <td>NaN</td>\n",
       "    </tr>\n",
       "  </tbody>\n",
       "</table>\n",
       "<p>2 rows × 58 columns</p>\n",
       "</div>"
      ],
      "text/plain": [
       "     Age   BMI     Sex  Height  Weight  Length_of_Stay    Management  \\\n",
       "0  12.68  16.9  female   148.0    37.0             3.0  conservative   \n",
       "1  14.10  31.9    male   147.0    69.5             2.0  conservative   \n",
       "\n",
       "        Severity Diagnosis_Presumptive        Diagnosis  ...  \\\n",
       "0  uncomplicated          appendicitis     appendicitis  ...   \n",
       "1  uncomplicated          appendicitis  no appendicitis  ...   \n",
       "\n",
       "   Abscess_Location  Pathological_Lymph_Nodes Lymph_Nodes_Location  \\\n",
       "0               NaN                       yes                 reUB   \n",
       "1               NaN                       NaN                  NaN   \n",
       "\n",
       "   Bowel_Wall_Thickening Conglomerate_of_Bowel_Loops Ileus Coprostasis  \\\n",
       "0                    NaN                         NaN   NaN         NaN   \n",
       "1                    NaN                         NaN   NaN         NaN   \n",
       "\n",
       "  Meteorism Enteritis Gynecological_Findings  \n",
       "0       NaN       NaN                    NaN  \n",
       "1       yes       NaN                    NaN  \n",
       "\n",
       "[2 rows x 58 columns]"
      ]
     },
     "execution_count": 5,
     "metadata": {},
     "output_type": "execute_result"
    }
   ],
   "source": [
    "# Get the full dataframe, for use in the rest of this workbook\n",
    "data_df = regensburg_pediatric_appendicitis.data.original\n",
    "data_df.head(2)"
   ]
  },
  {
   "cell_type": "markdown",
   "metadata": {},
   "source": [
    "**Discussion:**\n",
    "***\n",
    "Age is a Interval feature, because it is continuous, obtained from date of birth, and in units of years. \n",
    "BMI is an Interval feature, because it is continuous and measures body fat. 25 is not twice as fat as 12.5. \n",
    "Sex is nominal, because it is either male or female.\n",
    "Height is a ratio feature, because it is continuous and 60 height is twice as high as 30 for example.\n",
    "Weight is a ratio feature, because it is an integer estimate and 60 weight is twice as heavy as 30 weight.\n",
    "Length of stay is a interval, because it is an integer estimate in days.\n",
    "Management is nominal, because it can be conservative or another type.\n",
    "Severity is nominal because it is a type that is either uncomplicated or other.\n",
    "Diagnosis_Presumptive is nominal because it is a binary appendicitis or no appendicitis.\n",
    "Diagnosis is nominal because it is a binary appendicitis or no appendicitis.\n",
    "Alvarado Score is ordinal because it is an integer that is like a ranking of how likely appendicitis is present.\n",
    "Paedriatic_Appendicitis_Score is ordinal because it is a integer ranking of how likely appendicitis is present.\n",
    "Appendix_on_US is binary nominal feature because it is either yes or no, not a numerical ranking.\n",
    "Appendix_Diameter is an integer ratio that is most likely in millimeters or other unit.\n",
    "Migratory_Pain, Lower_Right_Abd_Pain, Contralateral_Rebound_Tenderness, Coughing_Pain, Nausea, Loss_of_Appetite are all nominal binary features.\n",
    "Body_Temperature is a interval because it is a continuous temperature measurement.\n",
    "WBC_Count is a ratio because it is a number of WBC per unit of blood.\n",
    "Neutrophil_Percentage is a ratio because it is percent mature WBC.\n",
    "Segmented_Neutrophils is a interval because it is most mature neutrophilic granulocytes present.\n",
    "Neutrophilia is a nominal feature because it is categorical type.\n",
    "RBC_Count is ratio because it is continuous and number of erythroctyes per unit of blood.\n",
    "Hemoglobin is a interval because it is a continuous feature.\n",
    "RDW is a interval because it is a continuous feature.\n",
    "Thrombocyte_Count is a ratio because it is number of platelets in unit of blood.\n",
    "Ketones_in_urine, RBC_in_Urine, WBC_in_Urine are all nominal because they are categorical.\n",
    "CRP is interval because it is an integer representing protein produced by liver.\n",
    "Dysuria is a nominal feature because it is binary.\n",
    "Stool, Peritonitus, psoas_sign, Ipsilateral_rebound_tenderness, US_Performed are all nominal because they are categorical.\n",
    "US_Number is an interval because it is an integer.\n",
    "Free_Fluids, Appendix_wall_layer,Target_Sign, Appendicolith, Perfusion, Perforation, Surrounding_tissue_reaction, Appendicular_abscess, Abscess_location are all nominal because they are categorical.\n",
    "Pathological_Lymph_Nodes is nominal because it is binary.\n",
    "Lymph_nodes_location is nominal because it is categorical.\n",
    "Bowel_Wall_Thickening, Conglomerate_of_Bowel_Loops are nominal because they are binary.\n",
    "Ileus, Coprostatis, Meteorism, Enteritis, Gynecological_findings are nominal because they are categorical.\n",
    "\n",
    "The data seems like it has enough features to make something useful out of it. Most features could have missing data according to meta-data. This could be a problem. The overall quality of the data is high quality, since it came from official hospital laboratory analysis. The currency of the data is very current from 2016 to 2021. Not very consistent data as every feature has missing values as yes. \n",
    "\n",
    "***"
   ]
  },
  {
   "cell_type": "markdown",
   "metadata": {
    "tags": []
   },
   "source": [
    "***\n",
    "## Section: 2.2 - Provide basic statistics for the attributes.\n",
    "- For example: counts, percentiles, mean, median, standard deviation. The statistics should be relevant for the type of attribute.\n",
    "***"
   ]
  },
  {
   "cell_type": "code",
   "execution_count": 22,
   "metadata": {},
   "outputs": [
    {
     "data": {
      "text/plain": [
       "Age                               11.346451\n",
       "BMI                               18.907012\n",
       "Height                           148.017460\n",
       "Weight                            43.172542\n",
       "Length_of_Stay                     4.284062\n",
       "Alvarado_Score                     5.921918\n",
       "Paedriatic_Appendicitis_Score      5.253425\n",
       "Appendix_Diameter                  7.762651\n",
       "Body_Temperature                  37.404516\n",
       "WBC_Count                         12.670683\n",
       "Neutrophil_Percentage             71.791163\n",
       "Segmented_Neutrophils             64.929630\n",
       "RBC_Count                          4.799490\n",
       "Hemoglobin                        13.380497\n",
       "RDW                               13.180291\n",
       "Thrombocyte_Count                285.252618\n",
       "CRP                               31.386900\n",
       "US_Number                        425.515789\n",
       "dtype: float64"
      ]
     },
     "execution_count": 22,
     "metadata": {},
     "output_type": "execute_result"
    }
   ],
   "source": [
    "data_df.mean(numeric_only = True)"
   ]
  },
  {
   "cell_type": "markdown",
   "metadata": {
    "tags": []
   },
   "source": [
    "**Discussion:**\n",
    "\n",
    "Average Age, BMI, Height and Weight all make sense in a pediatric setting. Average height in from cm to feet is 4.8 feet. 43.17 KG weight to pounds is around 95 pounds. Average body_Temperature is within healthy range. Neutrophil_percentage is slightly high at ~72 percent. Normal is 55 to 70 percent."
   ]
  },
  {
   "cell_type": "code",
   "execution_count": 32,
   "metadata": {},
   "outputs": [
    {
     "data": {
      "text/plain": [
       "Age                                3.529909\n",
       "BMI                                4.385331\n",
       "Height                            19.732016\n",
       "Weight                            17.390984\n",
       "Length_of_Stay                     2.574057\n",
       "Alvarado_Score                     2.155972\n",
       "Paedriatic_Appendicitis_Score      1.958456\n",
       "Appendix_Diameter                  2.536671\n",
       "Body_Temperature                   0.903678\n",
       "WBC_Count                          5.366525\n",
       "Neutrophil_Percentage             14.463656\n",
       "Segmented_Neutrophils             15.085025\n",
       "RBC_Count                          0.499012\n",
       "Hemoglobin                         1.393271\n",
       "RDW                                4.538774\n",
       "Thrombocyte_Count                 72.494373\n",
       "CRP                               57.433854\n",
       "US_Number                        271.585211\n",
       "dtype: float64"
      ]
     },
     "execution_count": 32,
     "metadata": {},
     "output_type": "execute_result"
    }
   ],
   "source": [
    "data_df.std(numeric_only = True)"
   ]
  },
  {
   "cell_type": "markdown",
   "metadata": {},
   "source": [
    "**Discussion:**\n",
    "Low standard deviation in body temperature of 0.9. This means mostly healthy temperatures with only few going above. "
   ]
  },
  {
   "cell_type": "code",
   "execution_count": 25,
   "metadata": {},
   "outputs": [
    {
     "data": {
      "text/plain": [
       "Diagnosis\n",
       "appendicitis       463\n",
       "no appendicitis    317\n",
       "Name: count, dtype: int64"
      ]
     },
     "execution_count": 25,
     "metadata": {},
     "output_type": "execute_result"
    }
   ],
   "source": [
    "data_df['Diagnosis'].value_counts()"
   ]
  },
  {
   "cell_type": "markdown",
   "metadata": {},
   "source": [
    "**Discussion:**\n",
    "  \n",
    "With over half of candidates diagnosed as with appendicitis, it is a biased sample \n",
    "compared to normal population.\n"
   ]
  },
  {
   "cell_type": "code",
   "execution_count": 30,
   "metadata": {},
   "outputs": [
    {
     "data": {
      "text/plain": [
       "Management\n",
       "conservative                 483\n",
       "primary surgical             270\n",
       "secondary surgical            27\n",
       "simultaneous appendectomy      1\n",
       "Name: count, dtype: int64"
      ]
     },
     "execution_count": 30,
     "metadata": {},
     "output_type": "execute_result"
    }
   ],
   "source": [
    "data_df['Management'].value_counts()"
   ]
  },
  {
   "cell_type": "markdown",
   "metadata": {},
   "source": [
    "**Discussion:**\n",
    "\n",
    "To manage the symptoms, most patients had conservative management, meaning no surgery or invasive procedures were done. Less than half ~300 did have surgery. "
   ]
  },
  {
   "cell_type": "code",
   "execution_count": 34,
   "metadata": {},
   "outputs": [
    {
     "data": {
      "text/plain": [
       "US_Performed\n",
       "yes    763\n",
       "no      15\n",
       "Name: count, dtype: int64"
      ]
     },
     "execution_count": 34,
     "metadata": {},
     "output_type": "execute_result"
    }
   ],
   "source": [
    "data_df['US_Performed'].value_counts()"
   ]
  },
  {
   "cell_type": "markdown",
   "metadata": {},
   "source": [
    "**Discussion:**\n",
    "Vast majority of patients had ultrasound procedure performed. The high standard deviation of 271 on US_Number means there was great variation in results of ultrasound procedure."
   ]
  },
  {
   "cell_type": "code",
   "execution_count": 15,
   "metadata": {},
   "outputs": [
    {
     "name": "stdout",
     "output_type": "stream",
     "text": [
      "7 null values in Body Temperature.\n"
     ]
    }
   ],
   "source": [
    "#Count up all null values in \n",
    "bt = data_df['Body_Temperature'].isna()\n",
    "count = 0\n",
    "for b1 in bt:\n",
    "    if b1:\n",
    "        count+=1\n",
    "print(str(count) + \" null values in Body Temperature.\")"
   ]
  },
  {
   "cell_type": "markdown",
   "metadata": {},
   "source": [
    "**Discussion:**\n",
    "Not many missing values for temperature. Good feature to explore."
   ]
  },
  {
   "cell_type": "code",
   "execution_count": 8,
   "metadata": {},
   "outputs": [
    {
     "data": {
      "text/html": [
       "<div>\n",
       "<style scoped>\n",
       "    .dataframe tbody tr th:only-of-type {\n",
       "        vertical-align: middle;\n",
       "    }\n",
       "\n",
       "    .dataframe tbody tr th {\n",
       "        vertical-align: top;\n",
       "    }\n",
       "\n",
       "    .dataframe thead th {\n",
       "        text-align: right;\n",
       "    }\n",
       "</style>\n",
       "<table border=\"1\" class=\"dataframe\">\n",
       "  <thead>\n",
       "    <tr style=\"text-align: right;\">\n",
       "      <th></th>\n",
       "      <th>Age</th>\n",
       "      <th>BMI</th>\n",
       "      <th>Height</th>\n",
       "      <th>Weight</th>\n",
       "      <th>Length_of_Stay</th>\n",
       "      <th>Alvarado_Score</th>\n",
       "      <th>Paedriatic_Appendicitis_Score</th>\n",
       "      <th>Appendix_Diameter</th>\n",
       "      <th>Body_Temperature</th>\n",
       "      <th>WBC_Count</th>\n",
       "      <th>Neutrophil_Percentage</th>\n",
       "      <th>Segmented_Neutrophils</th>\n",
       "      <th>RBC_Count</th>\n",
       "      <th>Hemoglobin</th>\n",
       "      <th>RDW</th>\n",
       "      <th>Thrombocyte_Count</th>\n",
       "      <th>CRP</th>\n",
       "      <th>US_Number</th>\n",
       "    </tr>\n",
       "  </thead>\n",
       "  <tbody>\n",
       "    <tr>\n",
       "      <th>count</th>\n",
       "      <td>781.000000</td>\n",
       "      <td>755.000000</td>\n",
       "      <td>756.000000</td>\n",
       "      <td>779.000000</td>\n",
       "      <td>778.000000</td>\n",
       "      <td>730.000000</td>\n",
       "      <td>730.000000</td>\n",
       "      <td>498.000000</td>\n",
       "      <td>775.000000</td>\n",
       "      <td>776.000000</td>\n",
       "      <td>679.000000</td>\n",
       "      <td>54.000000</td>\n",
       "      <td>764.000000</td>\n",
       "      <td>764.000000</td>\n",
       "      <td>756.000000</td>\n",
       "      <td>764.000000</td>\n",
       "      <td>771.000000</td>\n",
       "      <td>760.000000</td>\n",
       "    </tr>\n",
       "    <tr>\n",
       "      <th>mean</th>\n",
       "      <td>11.346451</td>\n",
       "      <td>18.907012</td>\n",
       "      <td>148.017460</td>\n",
       "      <td>43.172542</td>\n",
       "      <td>4.284062</td>\n",
       "      <td>5.921918</td>\n",
       "      <td>5.253425</td>\n",
       "      <td>7.762651</td>\n",
       "      <td>37.404516</td>\n",
       "      <td>12.670683</td>\n",
       "      <td>71.791163</td>\n",
       "      <td>64.929630</td>\n",
       "      <td>4.799490</td>\n",
       "      <td>13.380497</td>\n",
       "      <td>13.180291</td>\n",
       "      <td>285.252618</td>\n",
       "      <td>31.386900</td>\n",
       "      <td>425.515789</td>\n",
       "    </tr>\n",
       "    <tr>\n",
       "      <th>std</th>\n",
       "      <td>3.529909</td>\n",
       "      <td>4.385331</td>\n",
       "      <td>19.732016</td>\n",
       "      <td>17.390984</td>\n",
       "      <td>2.574057</td>\n",
       "      <td>2.155972</td>\n",
       "      <td>1.958456</td>\n",
       "      <td>2.536671</td>\n",
       "      <td>0.903678</td>\n",
       "      <td>5.366525</td>\n",
       "      <td>14.463656</td>\n",
       "      <td>15.085025</td>\n",
       "      <td>0.499012</td>\n",
       "      <td>1.393271</td>\n",
       "      <td>4.538774</td>\n",
       "      <td>72.494373</td>\n",
       "      <td>57.433854</td>\n",
       "      <td>271.585211</td>\n",
       "    </tr>\n",
       "    <tr>\n",
       "      <th>min</th>\n",
       "      <td>0.000000</td>\n",
       "      <td>7.830000</td>\n",
       "      <td>53.000000</td>\n",
       "      <td>3.960000</td>\n",
       "      <td>1.000000</td>\n",
       "      <td>0.000000</td>\n",
       "      <td>0.000000</td>\n",
       "      <td>2.700000</td>\n",
       "      <td>26.900000</td>\n",
       "      <td>2.600000</td>\n",
       "      <td>27.200000</td>\n",
       "      <td>32.000000</td>\n",
       "      <td>3.620000</td>\n",
       "      <td>8.200000</td>\n",
       "      <td>11.200000</td>\n",
       "      <td>91.000000</td>\n",
       "      <td>0.000000</td>\n",
       "      <td>1.000000</td>\n",
       "    </tr>\n",
       "    <tr>\n",
       "      <th>25%</th>\n",
       "      <td>9.200000</td>\n",
       "      <td>15.725000</td>\n",
       "      <td>137.000000</td>\n",
       "      <td>29.500000</td>\n",
       "      <td>3.000000</td>\n",
       "      <td>4.000000</td>\n",
       "      <td>4.000000</td>\n",
       "      <td>6.000000</td>\n",
       "      <td>36.800000</td>\n",
       "      <td>8.200000</td>\n",
       "      <td>61.400000</td>\n",
       "      <td>54.500000</td>\n",
       "      <td>4.537500</td>\n",
       "      <td>12.600000</td>\n",
       "      <td>12.300000</td>\n",
       "      <td>236.000000</td>\n",
       "      <td>1.000000</td>\n",
       "      <td>198.750000</td>\n",
       "    </tr>\n",
       "    <tr>\n",
       "      <th>50%</th>\n",
       "      <td>11.440000</td>\n",
       "      <td>18.060000</td>\n",
       "      <td>149.650000</td>\n",
       "      <td>41.400000</td>\n",
       "      <td>3.000000</td>\n",
       "      <td>6.000000</td>\n",
       "      <td>5.000000</td>\n",
       "      <td>7.500000</td>\n",
       "      <td>37.200000</td>\n",
       "      <td>12.000000</td>\n",
       "      <td>75.500000</td>\n",
       "      <td>64.500000</td>\n",
       "      <td>4.780000</td>\n",
       "      <td>13.300000</td>\n",
       "      <td>12.700000</td>\n",
       "      <td>276.000000</td>\n",
       "      <td>7.000000</td>\n",
       "      <td>398.500000</td>\n",
       "    </tr>\n",
       "    <tr>\n",
       "      <th>75%</th>\n",
       "      <td>14.100000</td>\n",
       "      <td>21.180000</td>\n",
       "      <td>163.000000</td>\n",
       "      <td>54.000000</td>\n",
       "      <td>5.000000</td>\n",
       "      <td>8.000000</td>\n",
       "      <td>7.000000</td>\n",
       "      <td>9.100000</td>\n",
       "      <td>37.900000</td>\n",
       "      <td>16.200000</td>\n",
       "      <td>83.600000</td>\n",
       "      <td>77.500000</td>\n",
       "      <td>5.020000</td>\n",
       "      <td>14.000000</td>\n",
       "      <td>13.300000</td>\n",
       "      <td>330.000000</td>\n",
       "      <td>33.000000</td>\n",
       "      <td>613.250000</td>\n",
       "    </tr>\n",
       "    <tr>\n",
       "      <th>max</th>\n",
       "      <td>18.360000</td>\n",
       "      <td>38.160000</td>\n",
       "      <td>192.000000</td>\n",
       "      <td>103.000000</td>\n",
       "      <td>28.000000</td>\n",
       "      <td>10.000000</td>\n",
       "      <td>10.000000</td>\n",
       "      <td>17.000000</td>\n",
       "      <td>40.200000</td>\n",
       "      <td>37.700000</td>\n",
       "      <td>97.700000</td>\n",
       "      <td>91.000000</td>\n",
       "      <td>14.000000</td>\n",
       "      <td>36.000000</td>\n",
       "      <td>86.900000</td>\n",
       "      <td>708.000000</td>\n",
       "      <td>365.000000</td>\n",
       "      <td>992.000000</td>\n",
       "    </tr>\n",
       "  </tbody>\n",
       "</table>\n",
       "</div>"
      ],
      "text/plain": [
       "              Age         BMI      Height      Weight  Length_of_Stay  \\\n",
       "count  781.000000  755.000000  756.000000  779.000000      778.000000   \n",
       "mean    11.346451   18.907012  148.017460   43.172542        4.284062   \n",
       "std      3.529909    4.385331   19.732016   17.390984        2.574057   \n",
       "min      0.000000    7.830000   53.000000    3.960000        1.000000   \n",
       "25%      9.200000   15.725000  137.000000   29.500000        3.000000   \n",
       "50%     11.440000   18.060000  149.650000   41.400000        3.000000   \n",
       "75%     14.100000   21.180000  163.000000   54.000000        5.000000   \n",
       "max     18.360000   38.160000  192.000000  103.000000       28.000000   \n",
       "\n",
       "       Alvarado_Score  Paedriatic_Appendicitis_Score  Appendix_Diameter  \\\n",
       "count      730.000000                     730.000000         498.000000   \n",
       "mean         5.921918                       5.253425           7.762651   \n",
       "std          2.155972                       1.958456           2.536671   \n",
       "min          0.000000                       0.000000           2.700000   \n",
       "25%          4.000000                       4.000000           6.000000   \n",
       "50%          6.000000                       5.000000           7.500000   \n",
       "75%          8.000000                       7.000000           9.100000   \n",
       "max         10.000000                      10.000000          17.000000   \n",
       "\n",
       "       Body_Temperature   WBC_Count  Neutrophil_Percentage  \\\n",
       "count        775.000000  776.000000             679.000000   \n",
       "mean          37.404516   12.670683              71.791163   \n",
       "std            0.903678    5.366525              14.463656   \n",
       "min           26.900000    2.600000              27.200000   \n",
       "25%           36.800000    8.200000              61.400000   \n",
       "50%           37.200000   12.000000              75.500000   \n",
       "75%           37.900000   16.200000              83.600000   \n",
       "max           40.200000   37.700000              97.700000   \n",
       "\n",
       "       Segmented_Neutrophils   RBC_Count  Hemoglobin         RDW  \\\n",
       "count              54.000000  764.000000  764.000000  756.000000   \n",
       "mean               64.929630    4.799490   13.380497   13.180291   \n",
       "std                15.085025    0.499012    1.393271    4.538774   \n",
       "min                32.000000    3.620000    8.200000   11.200000   \n",
       "25%                54.500000    4.537500   12.600000   12.300000   \n",
       "50%                64.500000    4.780000   13.300000   12.700000   \n",
       "75%                77.500000    5.020000   14.000000   13.300000   \n",
       "max                91.000000   14.000000   36.000000   86.900000   \n",
       "\n",
       "       Thrombocyte_Count         CRP   US_Number  \n",
       "count         764.000000  771.000000  760.000000  \n",
       "mean          285.252618   31.386900  425.515789  \n",
       "std            72.494373   57.433854  271.585211  \n",
       "min            91.000000    0.000000    1.000000  \n",
       "25%           236.000000    1.000000  198.750000  \n",
       "50%           276.000000    7.000000  398.500000  \n",
       "75%           330.000000   33.000000  613.250000  \n",
       "max           708.000000  365.000000  992.000000  "
      ]
     },
     "execution_count": 8,
     "metadata": {},
     "output_type": "execute_result"
    }
   ],
   "source": [
    "data_df.describe()"
   ]
  },
  {
   "cell_type": "markdown",
   "metadata": {},
   "source": [
    "**Discussion:**\n",
    "Age is highest count of non missing values. All other features have missing values then. "
   ]
  },
  {
   "cell_type": "code",
   "execution_count": 35,
   "metadata": {},
   "outputs": [
    {
     "data": {
      "text/html": [
       "<div>\n",
       "<style scoped>\n",
       "    .dataframe tbody tr th:only-of-type {\n",
       "        vertical-align: middle;\n",
       "    }\n",
       "\n",
       "    .dataframe tbody tr th {\n",
       "        vertical-align: top;\n",
       "    }\n",
       "\n",
       "    .dataframe thead th {\n",
       "        text-align: right;\n",
       "    }\n",
       "</style>\n",
       "<table border=\"1\" class=\"dataframe\">\n",
       "  <thead>\n",
       "    <tr style=\"text-align: right;\">\n",
       "      <th></th>\n",
       "      <th>Age</th>\n",
       "      <th>BMI</th>\n",
       "      <th>Height</th>\n",
       "      <th>Weight</th>\n",
       "      <th>Length_of_Stay</th>\n",
       "      <th>Alvarado_Score</th>\n",
       "      <th>Paedriatic_Appendicitis_Score</th>\n",
       "      <th>Appendix_Diameter</th>\n",
       "      <th>Body_Temperature</th>\n",
       "      <th>WBC_Count</th>\n",
       "      <th>Neutrophil_Percentage</th>\n",
       "      <th>Segmented_Neutrophils</th>\n",
       "      <th>RBC_Count</th>\n",
       "      <th>Hemoglobin</th>\n",
       "      <th>RDW</th>\n",
       "      <th>Thrombocyte_Count</th>\n",
       "      <th>CRP</th>\n",
       "      <th>US_Number</th>\n",
       "    </tr>\n",
       "  </thead>\n",
       "  <tbody>\n",
       "    <tr>\n",
       "      <th>0.00</th>\n",
       "      <td>0.00</td>\n",
       "      <td>7.8300</td>\n",
       "      <td>53.00</td>\n",
       "      <td>3.960</td>\n",
       "      <td>1.0</td>\n",
       "      <td>0.0</td>\n",
       "      <td>0.0</td>\n",
       "      <td>2.700</td>\n",
       "      <td>26.900</td>\n",
       "      <td>2.600</td>\n",
       "      <td>27.200</td>\n",
       "      <td>32.00</td>\n",
       "      <td>3.6200</td>\n",
       "      <td>8.2</td>\n",
       "      <td>11.20</td>\n",
       "      <td>91.00</td>\n",
       "      <td>0.0</td>\n",
       "      <td>1.00</td>\n",
       "    </tr>\n",
       "    <tr>\n",
       "      <th>0.01</th>\n",
       "      <td>2.76</td>\n",
       "      <td>12.2224</td>\n",
       "      <td>94.82</td>\n",
       "      <td>12.934</td>\n",
       "      <td>2.0</td>\n",
       "      <td>2.0</td>\n",
       "      <td>2.0</td>\n",
       "      <td>3.491</td>\n",
       "      <td>36.000</td>\n",
       "      <td>4.375</td>\n",
       "      <td>38.182</td>\n",
       "      <td>32.53</td>\n",
       "      <td>3.9452</td>\n",
       "      <td>10.6</td>\n",
       "      <td>11.60</td>\n",
       "      <td>146.00</td>\n",
       "      <td>0.0</td>\n",
       "      <td>9.59</td>\n",
       "    </tr>\n",
       "    <tr>\n",
       "      <th>0.10</th>\n",
       "      <td>6.39</td>\n",
       "      <td>14.4240</td>\n",
       "      <td>121.25</td>\n",
       "      <td>22.000</td>\n",
       "      <td>2.0</td>\n",
       "      <td>3.0</td>\n",
       "      <td>3.0</td>\n",
       "      <td>4.670</td>\n",
       "      <td>36.500</td>\n",
       "      <td>6.500</td>\n",
       "      <td>50.300</td>\n",
       "      <td>42.50</td>\n",
       "      <td>4.3400</td>\n",
       "      <td>12.0</td>\n",
       "      <td>12.00</td>\n",
       "      <td>200.00</td>\n",
       "      <td>0.0</td>\n",
       "      <td>82.90</td>\n",
       "    </tr>\n",
       "    <tr>\n",
       "      <th>0.25</th>\n",
       "      <td>9.20</td>\n",
       "      <td>15.7250</td>\n",
       "      <td>137.00</td>\n",
       "      <td>29.500</td>\n",
       "      <td>3.0</td>\n",
       "      <td>4.0</td>\n",
       "      <td>4.0</td>\n",
       "      <td>6.000</td>\n",
       "      <td>36.800</td>\n",
       "      <td>8.200</td>\n",
       "      <td>61.400</td>\n",
       "      <td>54.50</td>\n",
       "      <td>4.5375</td>\n",
       "      <td>12.6</td>\n",
       "      <td>12.30</td>\n",
       "      <td>236.00</td>\n",
       "      <td>1.0</td>\n",
       "      <td>198.75</td>\n",
       "    </tr>\n",
       "    <tr>\n",
       "      <th>0.50</th>\n",
       "      <td>11.44</td>\n",
       "      <td>18.0600</td>\n",
       "      <td>149.65</td>\n",
       "      <td>41.400</td>\n",
       "      <td>3.0</td>\n",
       "      <td>6.0</td>\n",
       "      <td>5.0</td>\n",
       "      <td>7.500</td>\n",
       "      <td>37.200</td>\n",
       "      <td>12.000</td>\n",
       "      <td>75.500</td>\n",
       "      <td>64.50</td>\n",
       "      <td>4.7800</td>\n",
       "      <td>13.3</td>\n",
       "      <td>12.70</td>\n",
       "      <td>276.00</td>\n",
       "      <td>7.0</td>\n",
       "      <td>398.50</td>\n",
       "    </tr>\n",
       "    <tr>\n",
       "      <th>0.75</th>\n",
       "      <td>14.10</td>\n",
       "      <td>21.1800</td>\n",
       "      <td>163.00</td>\n",
       "      <td>54.000</td>\n",
       "      <td>5.0</td>\n",
       "      <td>8.0</td>\n",
       "      <td>7.0</td>\n",
       "      <td>9.100</td>\n",
       "      <td>37.900</td>\n",
       "      <td>16.200</td>\n",
       "      <td>83.600</td>\n",
       "      <td>77.50</td>\n",
       "      <td>5.0200</td>\n",
       "      <td>14.0</td>\n",
       "      <td>13.30</td>\n",
       "      <td>330.00</td>\n",
       "      <td>33.0</td>\n",
       "      <td>613.25</td>\n",
       "    </tr>\n",
       "    <tr>\n",
       "      <th>0.90</th>\n",
       "      <td>15.79</td>\n",
       "      <td>24.5960</td>\n",
       "      <td>171.00</td>\n",
       "      <td>66.300</td>\n",
       "      <td>7.0</td>\n",
       "      <td>9.0</td>\n",
       "      <td>8.0</td>\n",
       "      <td>11.000</td>\n",
       "      <td>38.600</td>\n",
       "      <td>19.400</td>\n",
       "      <td>87.800</td>\n",
       "      <td>83.00</td>\n",
       "      <td>5.2600</td>\n",
       "      <td>14.8</td>\n",
       "      <td>13.90</td>\n",
       "      <td>381.70</td>\n",
       "      <td>88.0</td>\n",
       "      <td>882.10</td>\n",
       "    </tr>\n",
       "    <tr>\n",
       "      <th>0.99</th>\n",
       "      <td>17.58</td>\n",
       "      <td>32.6966</td>\n",
       "      <td>183.00</td>\n",
       "      <td>89.660</td>\n",
       "      <td>14.0</td>\n",
       "      <td>10.0</td>\n",
       "      <td>10.0</td>\n",
       "      <td>14.030</td>\n",
       "      <td>39.726</td>\n",
       "      <td>27.350</td>\n",
       "      <td>93.244</td>\n",
       "      <td>89.41</td>\n",
       "      <td>5.7974</td>\n",
       "      <td>16.3</td>\n",
       "      <td>16.19</td>\n",
       "      <td>468.59</td>\n",
       "      <td>282.5</td>\n",
       "      <td>979.23</td>\n",
       "    </tr>\n",
       "    <tr>\n",
       "      <th>1.00</th>\n",
       "      <td>18.36</td>\n",
       "      <td>38.1600</td>\n",
       "      <td>192.00</td>\n",
       "      <td>103.000</td>\n",
       "      <td>28.0</td>\n",
       "      <td>10.0</td>\n",
       "      <td>10.0</td>\n",
       "      <td>17.000</td>\n",
       "      <td>40.200</td>\n",
       "      <td>37.700</td>\n",
       "      <td>97.700</td>\n",
       "      <td>91.00</td>\n",
       "      <td>14.0000</td>\n",
       "      <td>36.0</td>\n",
       "      <td>86.90</td>\n",
       "      <td>708.00</td>\n",
       "      <td>365.0</td>\n",
       "      <td>992.00</td>\n",
       "    </tr>\n",
       "  </tbody>\n",
       "</table>\n",
       "</div>"
      ],
      "text/plain": [
       "        Age      BMI  Height   Weight  Length_of_Stay  Alvarado_Score  \\\n",
       "0.00   0.00   7.8300   53.00    3.960             1.0             0.0   \n",
       "0.01   2.76  12.2224   94.82   12.934             2.0             2.0   \n",
       "0.10   6.39  14.4240  121.25   22.000             2.0             3.0   \n",
       "0.25   9.20  15.7250  137.00   29.500             3.0             4.0   \n",
       "0.50  11.44  18.0600  149.65   41.400             3.0             6.0   \n",
       "0.75  14.10  21.1800  163.00   54.000             5.0             8.0   \n",
       "0.90  15.79  24.5960  171.00   66.300             7.0             9.0   \n",
       "0.99  17.58  32.6966  183.00   89.660            14.0            10.0   \n",
       "1.00  18.36  38.1600  192.00  103.000            28.0            10.0   \n",
       "\n",
       "      Paedriatic_Appendicitis_Score  Appendix_Diameter  Body_Temperature  \\\n",
       "0.00                            0.0              2.700            26.900   \n",
       "0.01                            2.0              3.491            36.000   \n",
       "0.10                            3.0              4.670            36.500   \n",
       "0.25                            4.0              6.000            36.800   \n",
       "0.50                            5.0              7.500            37.200   \n",
       "0.75                            7.0              9.100            37.900   \n",
       "0.90                            8.0             11.000            38.600   \n",
       "0.99                           10.0             14.030            39.726   \n",
       "1.00                           10.0             17.000            40.200   \n",
       "\n",
       "      WBC_Count  Neutrophil_Percentage  Segmented_Neutrophils  RBC_Count  \\\n",
       "0.00      2.600                 27.200                  32.00     3.6200   \n",
       "0.01      4.375                 38.182                  32.53     3.9452   \n",
       "0.10      6.500                 50.300                  42.50     4.3400   \n",
       "0.25      8.200                 61.400                  54.50     4.5375   \n",
       "0.50     12.000                 75.500                  64.50     4.7800   \n",
       "0.75     16.200                 83.600                  77.50     5.0200   \n",
       "0.90     19.400                 87.800                  83.00     5.2600   \n",
       "0.99     27.350                 93.244                  89.41     5.7974   \n",
       "1.00     37.700                 97.700                  91.00    14.0000   \n",
       "\n",
       "      Hemoglobin    RDW  Thrombocyte_Count    CRP  US_Number  \n",
       "0.00         8.2  11.20              91.00    0.0       1.00  \n",
       "0.01        10.6  11.60             146.00    0.0       9.59  \n",
       "0.10        12.0  12.00             200.00    0.0      82.90  \n",
       "0.25        12.6  12.30             236.00    1.0     198.75  \n",
       "0.50        13.3  12.70             276.00    7.0     398.50  \n",
       "0.75        14.0  13.30             330.00   33.0     613.25  \n",
       "0.90        14.8  13.90             381.70   88.0     882.10  \n",
       "0.99        16.3  16.19             468.59  282.5     979.23  \n",
       "1.00        36.0  86.90             708.00  365.0     992.00  "
      ]
     },
     "execution_count": 35,
     "metadata": {},
     "output_type": "execute_result"
    }
   ],
   "source": [
    "data_df.quantile(q = [0, 0.01, .1, .25, .5, .75, .9, .99, 1], axis=0, numeric_only=True, interpolation='linear', method='single')"
   ]
  },
  {
   "cell_type": "markdown",
   "metadata": {},
   "source": [
    "**Discussion:**\n",
    "The distribution of Segmented_Neutrophils, RBC_Count, Hemoglobin, Thrombocyte_Count are all useful for learning what low values and high values are for these features. Neutrophils and thrombocytes are types of white blood cell. Length of stay 28.0 days may be outlier as mean was 4.2 days."
   ]
  },
  {
   "cell_type": "markdown",
   "metadata": {},
   "source": [
    "***\n",
    "## Section: 2.3 - Visualize / analyze the most important or interesting attributes using appropriate techniques.\n",
    "- For each visualization, provide an interpretation explaining why it is appropriate or interesting. What does each visualization tell us?\n",
    "***"
   ]
  },
  {
   "cell_type": "code",
   "execution_count": 45,
   "metadata": {},
   "outputs": [
    {
     "data": {
      "text/plain": [
       "[<matplotlib.lines.Line2D at 0x296be9627d0>]"
      ]
     },
     "execution_count": 45,
     "metadata": {},
     "output_type": "execute_result"
    },
    {
     "data": {
      "image/png": "[encoded data removed]",
      "text/plain": [
       "<Figure size 640x480 with 1 Axes>"
      ]
     },
     "metadata": {},
     "output_type": "display_data"
    }
   ],
   "source": [
    "#Find the connection between length of stay and body temperature in a simple plot\n",
    "plt.plot(data_df['Length_of_Stay'], data_df['Body_Temperature'], 'bo', scalex=True,scaley=True)"
   ]
  },
  {
   "cell_type": "markdown",
   "metadata": {},
   "source": [
    "**Discussion:**\n",
    "This distribution shows body temperature against length of stay. From this graph it is safe to say body temperature is a one time collection event rather than average temperature over the course of the stay. This is because it looks like there is no correlation between the two variables. Meta data only says temperature collected from rectum but does not specify if it is average value or one time at check in."
   ]
  },
  {
   "cell_type": "code",
   "execution_count": 50,
   "metadata": {},
   "outputs": [
    {
     "data": {
      "text/plain": [
       "Text(0.5, 1.0, 'Box plot of Length of Hospital Stay and Diagnosis')"
      ]
     },
     "execution_count": 50,
     "metadata": {},
     "output_type": "execute_result"
    },
    {
     "data": {
      "image/png": "[encoded data removed]",
      "text/plain": [
       "<Figure size 640x480 with 1 Axes>"
      ]
     },
     "metadata": {},
     "output_type": "display_data"
    }
   ],
   "source": [
    "#plt.figure(figsize=(20,10))\n",
    "#Find difference of length of stay between appendicitis and no appendicitis in a box plot.\n",
    "#The box plot should show mean and outliers.\n",
    "sb.boxplot(y=data_df['Length_of_Stay'], x=data_df['Diagnosis'], hue=data_df['Diagnosis'])\n",
    "plt.title(\"Box plot of Length of Hospital Stay and Diagnosis\")"
   ]
  },
  {
   "cell_type": "markdown",
   "metadata": {},
   "source": [
    "**Discussion:**\n",
    "This boxplot is interesting as it shows a higher mean length of stay for those with appendicitis. Much more higher outliers too with appendicitis staying for longer."
   ]
  },
  {
   "cell_type": "code",
   "execution_count": 21,
   "metadata": {},
   "outputs": [
    {
     "data": {
      "text/plain": [
       "<Axes: xlabel='Length_of_Stay', ylabel='Alvarado_Score'>"
      ]
     },
     "execution_count": 21,
     "metadata": {},
     "output_type": "execute_result"
    },
    {
     "data": {
      "image/png": "[encoded data removed]",
      "text/plain": [
       "<Figure size 640x480 with 1 Axes>"
      ]
     },
     "metadata": {},
     "output_type": "display_data"
    }
   ],
   "source": [
    "#Suppress warning about future update\n",
    "import warnings\n",
    "warnings.simplefilter(action='ignore', category=FutureWarning)\n",
    "#Show line distribution of length of stay vs alvarado scale \n",
    "#Seperated on management of how it was treated.\n",
    "sb.lineplot(x=data_df['Length_of_Stay'], y=data_df['Alvarado_Score'], hue=data_df['Management'])"
   ]
  },
  {
   "cell_type": "markdown",
   "metadata": {},
   "source": [
    "**Discussion:**\n",
    "Conservative measures taken are associated with shorter hospital stay distribution and lower on alvarado scale than surgical approaches. Most secondary surgical approaches were around 5 days length of stay but varied in alvarado scale greatly. "
   ]
  },
  {
   "cell_type": "markdown",
   "metadata": {},
   "source": [
    "***\n",
    "## Section: 2.4 - Verify data quality: explain any missing values, duplicate data, or outliers.\n",
    "- What, if anything, do you need to do about these? Be specific.\n",
    "***"
   ]
  },
  {
   "cell_type": "code",
   "execution_count": 7,
   "metadata": {
    "tags": []
   },
   "outputs": [
    {
     "data": {
      "text/plain": [
       "[<matplotlib.lines.Line2D at 0x1a7ddf53290>]"
      ]
     },
     "execution_count": 7,
     "metadata": {},
     "output_type": "execute_result"
    },
    {
     "data": {
      "image/png": "[encoded data removed]",
      "text/plain": [
       "<Figure size 640x480 with 1 Axes>"
      ]
     },
     "metadata": {},
     "output_type": "display_data"
    }
   ],
   "source": [
    "#Plotting out data points of body temperature helps\n",
    "#get a better idea of the distribution and look for outliers.\n",
    "plt.plot(data_df['Body_Temperature'], 'bo',scalex=True, scaley=True)"
   ]
  },
  {
   "cell_type": "markdown",
   "metadata": {
    "tags": []
   },
   "source": [
    "\n",
    "**Discussion:**\n",
    "\n",
    "One outlier of body temperature at under 28 degrees C. Most points close to healthy temperature."
   ]
  },
  {
   "cell_type": "code",
   "execution_count": 37,
   "metadata": {},
   "outputs": [
    {
     "name": "stdout",
     "output_type": "stream",
     "text": [
      "91 index is a duplicate\n",
      "588 index is a duplicate\n"
     ]
    }
   ],
   "source": [
    "#Only choose three columns age, weight, length_of_stay\n",
    "#This is because they are almost all non-na.\n",
    "result = data_df[['Age', 'Weight', 'Length_of_Stay']]\n",
    "#Keep = first means marks true only second and furthermore occurences.\n",
    "result = result.duplicated(keep='first')\n",
    "#Print out indices of duplicates.\n",
    "for r in range(len(result)):\n",
    "    if result[r]:\n",
    "        print(str(r) + \" index is a duplicate\")"
   ]
  },
  {
   "cell_type": "markdown",
   "metadata": {},
   "source": [
    "**Discussion:** \n",
    "2 duplicates found on the three columns checked. We can not check all the columns because of lots of missing data. So check these three columns that have almost all non missing data for duplicates. Remove these two rows in part three."
   ]
  },
  {
   "cell_type": "code",
   "execution_count": 35,
   "metadata": {},
   "outputs": [
    {
     "data": {
      "text/plain": [
       "Age                                 781\n",
       "BMI                                 755\n",
       "Sex                                 780\n",
       "Height                              756\n",
       "Weight                              779\n",
       "Length_of_Stay                      778\n",
       "Management                          781\n",
       "Severity                            781\n",
       "Diagnosis_Presumptive               780\n",
       "Diagnosis                           780\n",
       "Alvarado_Score                      730\n",
       "Paedriatic_Appendicitis_Score       730\n",
       "Appendix_on_US                      777\n",
       "Appendix_Diameter                   498\n",
       "Migratory_Pain                      773\n",
       "Lower_Right_Abd_Pain                774\n",
       "Contralateral_Rebound_Tenderness    767\n",
       "Coughing_Pain                       766\n",
       "Nausea                              774\n",
       "Loss_of_Appetite                    772\n",
       "Body_Temperature                    775\n",
       "WBC_Count                           776\n",
       "Neutrophil_Percentage               679\n",
       "Segmented_Neutrophils                54\n",
       "Neutrophilia                        732\n",
       "RBC_Count                           764\n",
       "Hemoglobin                          764\n",
       "RDW                                 756\n",
       "Thrombocyte_Count                   764\n",
       "Ketones_in_Urine                    582\n",
       "RBC_in_Urine                        576\n",
       "WBC_in_Urine                        583\n",
       "CRP                                 771\n",
       "Dysuria                             753\n",
       "Stool                               765\n",
       "Peritonitis                         773\n",
       "Psoas_Sign                          745\n",
       "Ipsilateral_Rebound_Tenderness      619\n",
       "US_Performed                        778\n",
       "US_Number                           760\n",
       "Free_Fluids                         719\n",
       "Appendix_Wall_Layers                218\n",
       "Target_Sign                         138\n",
       "Appendicolith                        69\n",
       "Perfusion                            63\n",
       "Perforation                          81\n",
       "Surrounding_Tissue_Reaction         252\n",
       "Appendicular_Abscess                 85\n",
       "Abscess_Location                     13\n",
       "Pathological_Lymph_Nodes            203\n",
       "Lymph_Nodes_Location                121\n",
       "Bowel_Wall_Thickening                99\n",
       "Conglomerate_of_Bowel_Loops          43\n",
       "Ileus                                60\n",
       "Coprostasis                          71\n",
       "Meteorism                           140\n",
       "Enteritis                            66\n",
       "Gynecological_Findings               26\n",
       "dtype: int64"
      ]
     },
     "execution_count": 35,
     "metadata": {},
     "output_type": "execute_result"
    }
   ],
   "source": [
    "#Counts number of non na values in each feature.\n",
    "data_df.count()"
   ]
  },
  {
   "cell_type": "markdown",
   "metadata": {},
   "source": [
    "**Discussion:**\n",
    "BMI is not 100% non-na values. This is possible since there are missing values for weight and height and therefore cannot be computed. US_Performed is almost 100% nonna, however many other dependent features are mostly null values. This could be because doctors did not analyze the ultrasound results. Ketones_in_urine, RBC_in_Urine, WBC_In_Urine are all around 580 count which means that many patients had urine tests."
   ]
  },
  {
   "cell_type": "markdown",
   "metadata": {},
   "source": [
    "***\n",
    "## Section: 2.5 - Explore the relationships among the attributes.\n",
    "- You may include or exclude the class attribute as appropriate.\n",
    "- Use scatter plots, correlation matrices, cross-tabulations, group-wise averages, or other appropriate techniques. Explain and interpret any interesting relationships.\n",
    "- There are three general cases for 2-attribute relationships:\n",
    "  - Categorical vs Categorical\n",
    "  - Categorical vs Numerical\n",
    "  - Numerical vs Numerical\n",
    "***"
   ]
  },
  {
   "cell_type": "code",
   "execution_count": 42,
   "metadata": {
    "tags": []
   },
   "outputs": [
    {
     "data": {
      "text/plain": [
       "<Axes: xlabel='WBC_Count', ylabel='Body_Temperature'>"
      ]
     },
     "execution_count": 42,
     "metadata": {},
     "output_type": "execute_result"
    },
    {
     "data": {
      "image/png": "[encoded data removed]",
      "text/plain": [
       "<Figure size 640x480 with 1 Axes>"
      ]
     },
     "metadata": {},
     "output_type": "display_data"
    }
   ],
   "source": [
    "#Find relationship between body_Temperature and WBC_Count\n",
    "df = data_df[['Body_Temperature', 'WBC_Count']]\n",
    "df.plot.scatter(x='WBC_Count', y='Body_Temperature')"
   ]
  },
  {
   "cell_type": "markdown",
   "metadata": {
    "tags": []
   },
   "source": [
    "**Discussion:**\n",
    "\n",
    "Can not tell much from this scatter plot. Looks like there could be a slight upwards trend of WBC_Count and Body_Temperature."
   ]
  },
  {
   "cell_type": "code",
   "execution_count": 44,
   "metadata": {},
   "outputs": [
    {
     "data": {
      "text/plain": [
       "<Axes: xlabel='Body_Temperature', ylabel='WBC_Count'>"
      ]
     },
     "execution_count": 44,
     "metadata": {},
     "output_type": "execute_result"
    },
    {
     "data": {
      "image/png": "[encoded data removed]",
      "text/plain": [
       "<Figure size 640x480 with 1 Axes>"
      ]
     },
     "metadata": {},
     "output_type": "display_data"
    }
   ],
   "source": [
    "#Find a linear relationship between body temp. and WBC count.\n",
    "sb.lineplot(x=data_df['Body_Temperature'], y=data_df['WBC_Count'])"
   ]
  },
  {
   "cell_type": "markdown",
   "metadata": {},
   "source": [
    "**Discussion**:\n",
    "The suspicion is confirmed. The line clearly shows an upwards trend of higher body temperature with more white blood cells. This must be an immune system reaction."
   ]
  },
  {
   "cell_type": "code",
   "execution_count": 87,
   "metadata": {},
   "outputs": [
    {
     "data": {
      "text/plain": [
       "<Axes: >"
      ]
     },
     "execution_count": 87,
     "metadata": {},
     "output_type": "execute_result"
    },
    {
     "data": {
      "image/png": "[encoded data removed]",
      "text/plain": [
       "<Figure size 1100x900 with 2 Axes>"
      ]
     },
     "metadata": {},
     "output_type": "display_data"
    }
   ],
   "source": [
    "#Make a correlation matrix heat map for most binary features.\n",
    "#Looking for strong correlation between binary features\n",
    "#which are mostly symptoms and or diagnosis\n",
    "sb.set_theme(style=\"white\")\n",
    "cols = ['Diagnosis_Presumptive', 'Diagnosis', 'Appendix_on_US', 'Migratory_Pain', 'Lower_Right_Abd_Pain', \n",
    "                                'Contralateral_Rebound_Tenderness', 'Coughing_Pain', 'Nausea', 'Loss_of_Appetite',\n",
    "                                'Dysuria', 'Pathological_Lymph_Nodes']\n",
    "df = data_df[cols]\n",
    "#Convert app. to 1 no to 0 and yes to 1\n",
    "\n",
    "a_map = {\n",
    "    'appendicitis': 1,\n",
    "    'yes': 1,\n",
    "    'no': 0,\n",
    "    'no appendicitis': 0,\n",
    "    'NaN': 0\n",
    "    \n",
    "}\n",
    "df = df.applymap(lambda s: a_map.get(s) if s in a_map else 0)\n",
    "#print(df)\n",
    "#Tried and failed different map methods on pandas dataframe.\n",
    "'''\n",
    "for i in range(len(df)):\n",
    "    for i2 in range(2):\n",
    "        if(df.loc(i2, i) == 'appendicitis'):\n",
    "            df2.loc(i2, i)= 1\n",
    "        else: \n",
    "            df2.loc(i2,i) =0\n",
    "    for i2 in range(2, 12):\n",
    "        if(df.loc(i2, i) == 'yes'):\n",
    "            df2.loc(i2, i)= 1\n",
    "        else: \n",
    "            df2.loc(i2,i) =0\n",
    "'''\n",
    "#df['Diagnosis_Presumptive'] = df['Diagnosis_Presumptive'].map(a_map)\n",
    "#df['Diagnosis'] = df['Diagnosis'].map(a_map)\n",
    "#df['Appendix_on_US'] = df['Appendix_on_US'].map(yn_map)\n",
    "#df['Migratory_Pain'] = df['Migratory_Pain'].map(yn_map)\n",
    "#df['Lower_Right_Abd_Pain'] = df['Lower_Right_Abd_Pain'].map(yn_map)\n",
    "#df['Contralateral_Rebound_Tenderness'] = df['Contralateral_Rebound_Tenderness'].map(yn_map)\n",
    "#df['Coughing_Pain'] = df['Coughing_Pain'].map(yn_map)\n",
    "#df['Nausea'] = df['Nausea'].map(yn_map)\n",
    "#df['Loss_of_Appetite'] = df['Loss_of_Appetite'].map(yn_map)\n",
    "#df['Dysuria'] = df['Dysuria'].map(yn_map)\n",
    "#df['Pathological_Lymph_Nodes'] = df['Pathological_Lymph_Nodes'].map(yn_map)\n",
    "\n",
    "df = pd.DataFrame(data=df, columns=cols) \n",
    "\n",
    "corr = df.corr()\n",
    "mask = np.triu(np.ones_like(corr, dtype=bool))\n",
    "# Set up the matplotlib figure\n",
    "f, ax = plt.subplots(figsize=(11, 9))\n",
    "\n",
    "# Generate a custom diverging colormap\n",
    "cmap = sb.diverging_palette(230, 20, as_cmap=True)\n",
    "\n",
    "# Draw the heatmap with the mask and correct aspect ratio\n",
    "sb.heatmap(corr, mask=mask, cmap=cmap, vmax=.3, center=0,\n",
    "            square=True, linewidths=.5, cbar_kws={\"shrink\": .5})\n"
   ]
  },
  {
   "cell_type": "markdown",
   "metadata": {},
   "source": [
    "**Discussion:**\n",
    "Diagnosis and Diagnosis Presumptive of appendicitis have stronger correlation with most of the symptoms of it. Especially Contralateral rebound tenderness, nausea and loss of appetite. Nausea and loss of appetite have strong correlation since they are related in digestive system. Diagnosis and diagnosis presumptive have strong correlation to Appendix on US which is detectable appendix. This could mean appendix is larger than normal if it is detectable. Null values were set to 0 meaning there is correlation is lower than normal."
   ]
  },
  {
   "cell_type": "code",
   "execution_count": 91,
   "metadata": {},
   "outputs": [
    {
     "data": {
      "text/plain": [
       "<Axes: xlabel='WBC_Count', ylabel='Alvarado_Score'>"
      ]
     },
     "execution_count": 91,
     "metadata": {},
     "output_type": "execute_result"
    },
    {
     "data": {
      "image/png": "[encoded data removed]",
      "text/plain": [
       "<Figure size 640x480 with 1 Axes>"
      ]
     },
     "metadata": {},
     "output_type": "display_data"
    }
   ],
   "source": [
    "#Suppress warning about future update\n",
    "import warnings\n",
    "warnings.simplefilter(action='ignore', category=FutureWarning)\n",
    "#Find potential relationship between wbc count and alvarado score\n",
    "#Seperated on presumptive diagnosis/ symptomatic or not.\n",
    "sb.lineplot(x=data_df['WBC_Count'], y=data_df['Alvarado_Score'], hue=data_df['Diagnosis'])"
   ]
  },
  {
   "cell_type": "markdown",
   "metadata": {},
   "source": [
    "**Discussion:**\n",
    "There is a strong positive relationship between WBC and Alvarado_Score. Appendicitis has slightly higher rates of Alvarado Score per WBC_Count too over no appendicitis. "
   ]
  },
  {
   "cell_type": "code",
   "execution_count": 95,
   "metadata": {},
   "outputs": [
    {
     "data": {
      "text/plain": [
       "<matplotlib.legend.Legend at 0x1a7edec6e50>"
      ]
     },
     "execution_count": 95,
     "metadata": {},
     "output_type": "execute_result"
    },
    {
     "data": {
      "image/png": "[encoded data removed]",
      "text/plain": [
       "<Figure size 640x480 with 1 Axes>"
      ]
     },
     "metadata": {},
     "output_type": "display_data"
    }
   ],
   "source": [
    "# EXAMPLE: Visualize the relationship between one specific pair of numerical variables, to look for potential relationship.\n",
    "#Check to see if there is any difference in appendictis score, appendix diameter between\n",
    "#management types.\n",
    "groups = data_df.groupby('Management')\n",
    "for name, group in groups:\n",
    "    plt.plot(group.Paedriatic_Appendicitis_Score, group.Appendix_Diameter, marker='o', linestyle='', markersize=2, label=name)\n",
    "plt.xlabel('Paedriatic Appendicitis Score')\n",
    "plt.ylabel(' Appendix Diameter')\n",
    "plt.legend()"
   ]
  },
  {
   "cell_type": "markdown",
   "metadata": {},
   "source": [
    "Primary surgical management seems to have higher appendix diameter than conservative approaches. "
   ]
  },
  {
   "cell_type": "markdown",
   "metadata": {},
   "source": [
    "***\n",
    "## Section: 2.6 - Identify and explain any interesting relationships between the class attribute and the other attributes.\n",
    "- You may refer to earlier analyses / visualizations (if you included the class attribute above) or create new ones.\n",
    "***"
   ]
  },
  {
   "cell_type": "markdown",
   "metadata": {},
   "source": [
    "**Discussion:**\n",
    "Many of the relationships can be explained by how the immune system works. When the body creates more white blood cells (WBC) it is responding to some kind of disease or ailment. It also increases body temperature while producing more WBC to kill bacteria. Bacteria and other microbes have a harder time reproducing at higher temperatures. \n",
    "\n",
    "Presumptive Diagnosis of Appendicitis is correlated with many of the symptoms of appendicitis because that is what the admitting patient is diagnosised with at the hospital. The doctor would record these symptoms tenderness, detectable appendix, abdominal pain and more and in general historically these symptoms are associated with the ailment. \n",
    "\n",
    "Appendictis had higher rates of alvarado score per white blood cell count, because there are more serious symptoms with a diagnosis of appendicitis versus no appendicitis. With higher white blood cell count the immune system is reacting to an ailment. Those ailments are most likely symptoms that are recorded as either 1 or 2 points of alvarado score. That explains the linear relationship between alvarado score and WBC count.\n",
    "\n",
    "With larger appendix diameter, the seriousness of appendicitis could be considered worse. So surgery is necessary for the larger appendix. Paedatric appendicitis score varied and did not see any relationship. Larger appendix diameter seemed to be defining feature of surgery or no surgery."
   ]
  },
  {
   "cell_type": "markdown",
   "metadata": {
    "tags": []
   },
   "source": [
    "***\n",
    "# Section: 3 - Data Preparation - **DO THIS!**\n",
    "In this step, the “final” target dataset is constructed (although nothing is ever final…), based on the insights gleaned in the Data Understanding step.\n",
    "This may include:\n",
    "- Normalizing / standardizing the data.\n",
    "- Handling missing and erroneous data.\n",
    "- Transforming or eliminating attributes.\n",
    "- “Blending” data from multiple sources (with attention to consistency of the various sources).\n",
    "- Deploying the data to storage in suitable formats, data models / structures.\n",
    "\n",
    "**NOTE:** In each of these sections, it is OK to decide to **not** make changes to the dataset, but you **must** explain **why** you made the choice.  Recall that the purpose of this step is to produce a clean dataset that is suitable for the intended purposes.  So, for example, you might choose to not remove any attributes, but if you have 100 apparently irrelevant attributes, explain why are you keeping them - there may be a good reason.\n",
    "***"
   ]
  },
  {
   "cell_type": "markdown",
   "metadata": {
    "tags": []
   },
   "source": [
    "***\n",
    "## Section: 3.1 - Clean the Data\n",
    "- Implement any data cleaning steps previously identified.  Please justify.\n",
    "- Show the effects of that cleaning through the use of appropriate statistics and/or visualizations.\n",
    "***"
   ]
  },
  {
   "cell_type": "code",
   "execution_count": 7,
   "metadata": {},
   "outputs": [],
   "source": [
    "#Create copy for cleaning\n",
    "clean_data_df = data_df.copy()\n",
    "\n",
    "#clean_data_df['Diagnosis_Presumptive'].value_counts()\n",
    "#Replace all diagnosis not appendicitis specific to other.\n",
    "for i in range(len(clean_data_df['Diagnosis_Presumptive'])):\n",
    "    s = clean_data_df['Diagnosis_Presumptive'][i]\n",
    "    if s != 'appendicitis' and s != 'no appendicitis':\n",
    "        clean_data_df['Diagnosis_Presumptive'].replace(to_replace = s, value = 'other', inplace = True)\n",
    "\n"
   ]
  },
  {
   "cell_type": "markdown",
   "metadata": {
    "tags": []
   },
   "source": [
    "**Discussion:**\n",
    "There were many diagnosises not in english. Around twenty of them. So it was possible to replace these other values with 'other' to be more generic."
   ]
  },
  {
   "cell_type": "code",
   "execution_count": 134,
   "metadata": {},
   "outputs": [],
   "source": [
    "clean_data_df = clean_data_df.dropna(subset=['Diagnosis'])\n",
    "clean_data_df = clean_data_df.reset_index(drop=True)"
   ]
  },
  {
   "cell_type": "markdown",
   "metadata": {},
   "source": [
    "**Discussion:**\n",
    "Diagnosis is an important class feature that has missing values of data. These missing values should be dropped in order to preserve accuracy."
   ]
  },
  {
   "cell_type": "code",
   "execution_count": 135,
   "metadata": {},
   "outputs": [],
   "source": [
    "clean_data_df.drop_duplicates(subset= ['Age', 'Weight', 'Length_of_Stay'], keep='first', inplace=True)  # This removes all but one copy of the records that are completely identical.\n",
    "clean_data_df = clean_data_df.reset_index(drop=True)"
   ]
  },
  {
   "cell_type": "markdown",
   "metadata": {},
   "source": [
    "**Discussion:**\n",
    "It was found that there are two duplicates in an earlier section. Drop these to preserve data precision."
   ]
  },
  {
   "cell_type": "code",
   "execution_count": 147,
   "metadata": {},
   "outputs": [
    {
     "data": {
      "text/plain": [
       "Weight\n",
       "50.0    23\n",
       "33.0    16\n",
       "45.0    16\n",
       "39.0    13\n",
       "54.0    13\n",
       "        ..\n",
       "26.7     1\n",
       "57.3     1\n",
       "65.1     1\n",
       "47.2     1\n",
       "23.9     1\n",
       "Name: count, Length: 268, dtype: int64"
      ]
     },
     "execution_count": 147,
     "metadata": {},
     "output_type": "execute_result"
    }
   ],
   "source": [
    "#Calculate BMI for missing values.\n",
    "clean_data_df['BMI'].fillna((clean_data_df['Weight'] / ((clean_data_df['Height']/100)*(clean_data_df['Height']/100))), inplace=True)"
   ]
  },
  {
   "cell_type": "markdown",
   "metadata": {},
   "source": [
    "**Discussion:**\n",
    "If there are any missing BMI values with height and weight filled in, it is possible to fill in the data then."
   ]
  },
  {
   "cell_type": "code",
   "execution_count": 213,
   "metadata": {},
   "outputs": [
    {
     "name": "stdout",
     "output_type": "stream",
     "text": [
      "[51, 64, 545, 624]\n",
      "[145, 303, 676]\n",
      "[638, 656, 676]\n",
      "[221, 704]\n",
      "[33, 563, 601, 681, 693, 763]\n"
     ]
    },
    {
     "data": {
      "image/png": "[encoded data removed]",
      "text/plain": [
       "<Figure size 640x480 with 1 Axes>"
      ]
     },
     "metadata": {},
     "output_type": "display_data"
    },
    {
     "data": {
      "image/png": "[encoded data removed]",
      "text/plain": [
       "<Figure size 640x480 with 1 Axes>"
      ]
     },
     "metadata": {},
     "output_type": "display_data"
    },
    {
     "data": {
      "image/png": "[encoded data removed]",
      "text/plain": [
       "<Figure size 640x480 with 1 Axes>"
      ]
     },
     "metadata": {},
     "output_type": "display_data"
    },
    {
     "data": {
      "image/png": "[encoded data removed]",
      "text/plain": [
       "<Figure size 640x480 with 1 Axes>"
      ]
     },
     "metadata": {},
     "output_type": "display_data"
    },
    {
     "data": {
      "text/plain": [
       "<Axes: xlabel='WBC_Count'>"
      ]
     },
     "execution_count": 213,
     "metadata": {},
     "output_type": "execute_result"
    },
    {
     "data": {
      "image/png": "[encoded data removed]",
      "text/plain": [
       "<Figure size 640x480 with 1 Axes>"
      ]
     },
     "metadata": {},
     "output_type": "display_data"
    }
   ],
   "source": [
    "#Run this only one time to drop outliers once.\n",
    "def find_outliers(df1, att):\n",
    "    std = df1[att].std()\n",
    "    mean = df1[att].mean()\n",
    "    ans = []\n",
    "    for i in range(len(df1[att])):\n",
    "        if df1[att][i] < mean - (std*3) or df1[att][i] > mean + (std*3):\n",
    "            ans.append(i)\n",
    "    return ans\n",
    "# print and drop the outliers for some numerical attributes.\n",
    "#print(clean_data_df['WBC_Count'][681])\n",
    "outliers_indices = []\n",
    "for att in ['Weight', 'Height', 'Age', 'Body_Temperature', 'WBC_Count']:\n",
    "    outliers_indices = find_outliers(clean_data_df, att)\n",
    "    print(outliers_indices)\n",
    "    clean_data_df[att] = clean_data_df[att].drop(labels=outliers_indices)\n",
    "    #clean_data_df = clean_data_df.reset_index(drop=True)\n",
    "#print(clean_data_df['WBC_Count'][681])\n",
    "\n",
    "sb.boxplot(x=clean_data_df['Weight'])\n",
    "plt.show()\n",
    "sb.boxplot(x=clean_data_df['Height'])\n",
    "plt.show()\n",
    "sb.boxplot(x=clean_data_df['Age'])\n",
    "plt.show()\n",
    "sb.boxplot(x=clean_data_df['Body_Temperature'])\n",
    "plt.show()\n",
    "sb.boxplot(x=clean_data_df['WBC_Count'])"
   ]
  },
  {
   "cell_type": "markdown",
   "metadata": {},
   "source": [
    "**Discussion:**\n",
    "Here we find outliers and drop them from the data set. (Replacing with NaN). Outliers are defined as anything outside three standard deviations of mean. Only run this once to find outliers one time. Box plots show clean data without outliers."
   ]
  },
  {
   "cell_type": "markdown",
   "metadata": {},
   "source": [
    "***\n",
    "## Section: 3.2 - Select Attributes\n",
    "- Optionally, remove attributes that are unneeded, redundant, etc., for the expected uses.\n",
    "- Which attributes did you decide to remove, if any? Please justify.\n",
    "***"
   ]
  },
  {
   "cell_type": "code",
   "execution_count": 11,
   "metadata": {},
   "outputs": [
    {
     "data": {
      "text/html": [
       "<div>\n",
       "<style scoped>\n",
       "    .dataframe tbody tr th:only-of-type {\n",
       "        vertical-align: middle;\n",
       "    }\n",
       "\n",
       "    .dataframe tbody tr th {\n",
       "        vertical-align: top;\n",
       "    }\n",
       "\n",
       "    .dataframe thead th {\n",
       "        text-align: right;\n",
       "    }\n",
       "</style>\n",
       "<table border=\"1\" class=\"dataframe\">\n",
       "  <thead>\n",
       "    <tr style=\"text-align: right;\">\n",
       "      <th></th>\n",
       "      <th>Age</th>\n",
       "      <th>BMI</th>\n",
       "      <th>Height</th>\n",
       "      <th>Weight</th>\n",
       "      <th>Length_of_Stay</th>\n",
       "      <th>Alvarado_Score</th>\n",
       "      <th>Paedriatic_Appendicitis_Score</th>\n",
       "      <th>Appendix_Diameter</th>\n",
       "      <th>Body_Temperature</th>\n",
       "      <th>WBC_Count</th>\n",
       "      <th>Neutrophil_Percentage</th>\n",
       "      <th>Segmented_Neutrophils</th>\n",
       "      <th>RBC_Count</th>\n",
       "      <th>Hemoglobin</th>\n",
       "      <th>RDW</th>\n",
       "      <th>Thrombocyte_Count</th>\n",
       "      <th>CRP</th>\n",
       "      <th>US_Number</th>\n",
       "    </tr>\n",
       "  </thead>\n",
       "  <tbody>\n",
       "    <tr>\n",
       "      <th>count</th>\n",
       "      <td>781.000000</td>\n",
       "      <td>755.000000</td>\n",
       "      <td>756.000000</td>\n",
       "      <td>779.000000</td>\n",
       "      <td>778.000000</td>\n",
       "      <td>730.000000</td>\n",
       "      <td>730.000000</td>\n",
       "      <td>498.000000</td>\n",
       "      <td>775.000000</td>\n",
       "      <td>776.000000</td>\n",
       "      <td>679.000000</td>\n",
       "      <td>54.000000</td>\n",
       "      <td>764.000000</td>\n",
       "      <td>764.000000</td>\n",
       "      <td>756.000000</td>\n",
       "      <td>764.000000</td>\n",
       "      <td>771.000000</td>\n",
       "      <td>760.000000</td>\n",
       "    </tr>\n",
       "    <tr>\n",
       "      <th>mean</th>\n",
       "      <td>11.346451</td>\n",
       "      <td>18.907012</td>\n",
       "      <td>148.017460</td>\n",
       "      <td>43.172542</td>\n",
       "      <td>4.284062</td>\n",
       "      <td>5.921918</td>\n",
       "      <td>5.253425</td>\n",
       "      <td>7.762651</td>\n",
       "      <td>37.404516</td>\n",
       "      <td>12.670683</td>\n",
       "      <td>71.791163</td>\n",
       "      <td>64.929630</td>\n",
       "      <td>4.799490</td>\n",
       "      <td>13.380497</td>\n",
       "      <td>13.180291</td>\n",
       "      <td>285.252618</td>\n",
       "      <td>31.386900</td>\n",
       "      <td>425.515789</td>\n",
       "    </tr>\n",
       "    <tr>\n",
       "      <th>std</th>\n",
       "      <td>3.529909</td>\n",
       "      <td>4.385331</td>\n",
       "      <td>19.732016</td>\n",
       "      <td>17.390984</td>\n",
       "      <td>2.574057</td>\n",
       "      <td>2.155972</td>\n",
       "      <td>1.958456</td>\n",
       "      <td>2.536671</td>\n",
       "      <td>0.903678</td>\n",
       "      <td>5.366525</td>\n",
       "      <td>14.463656</td>\n",
       "      <td>15.085025</td>\n",
       "      <td>0.499012</td>\n",
       "      <td>1.393271</td>\n",
       "      <td>4.538774</td>\n",
       "      <td>72.494373</td>\n",
       "      <td>57.433854</td>\n",
       "      <td>271.585211</td>\n",
       "    </tr>\n",
       "    <tr>\n",
       "      <th>min</th>\n",
       "      <td>0.000000</td>\n",
       "      <td>7.830000</td>\n",
       "      <td>53.000000</td>\n",
       "      <td>3.960000</td>\n",
       "      <td>1.000000</td>\n",
       "      <td>0.000000</td>\n",
       "      <td>0.000000</td>\n",
       "      <td>2.700000</td>\n",
       "      <td>26.900000</td>\n",
       "      <td>2.600000</td>\n",
       "      <td>27.200000</td>\n",
       "      <td>32.000000</td>\n",
       "      <td>3.620000</td>\n",
       "      <td>8.200000</td>\n",
       "      <td>11.200000</td>\n",
       "      <td>91.000000</td>\n",
       "      <td>0.000000</td>\n",
       "      <td>1.000000</td>\n",
       "    </tr>\n",
       "    <tr>\n",
       "      <th>25%</th>\n",
       "      <td>9.200000</td>\n",
       "      <td>15.725000</td>\n",
       "      <td>137.000000</td>\n",
       "      <td>29.500000</td>\n",
       "      <td>3.000000</td>\n",
       "      <td>4.000000</td>\n",
       "      <td>4.000000</td>\n",
       "      <td>6.000000</td>\n",
       "      <td>36.800000</td>\n",
       "      <td>8.200000</td>\n",
       "      <td>61.400000</td>\n",
       "      <td>54.500000</td>\n",
       "      <td>4.537500</td>\n",
       "      <td>12.600000</td>\n",
       "      <td>12.300000</td>\n",
       "      <td>236.000000</td>\n",
       "      <td>1.000000</td>\n",
       "      <td>198.750000</td>\n",
       "    </tr>\n",
       "    <tr>\n",
       "      <th>50%</th>\n",
       "      <td>11.440000</td>\n",
       "      <td>18.060000</td>\n",
       "      <td>149.650000</td>\n",
       "      <td>41.400000</td>\n",
       "      <td>3.000000</td>\n",
       "      <td>6.000000</td>\n",
       "      <td>5.000000</td>\n",
       "      <td>7.500000</td>\n",
       "      <td>37.200000</td>\n",
       "      <td>12.000000</td>\n",
       "      <td>75.500000</td>\n",
       "      <td>64.500000</td>\n",
       "      <td>4.780000</td>\n",
       "      <td>13.300000</td>\n",
       "      <td>12.700000</td>\n",
       "      <td>276.000000</td>\n",
       "      <td>7.000000</td>\n",
       "      <td>398.500000</td>\n",
       "    </tr>\n",
       "    <tr>\n",
       "      <th>75%</th>\n",
       "      <td>14.100000</td>\n",
       "      <td>21.180000</td>\n",
       "      <td>163.000000</td>\n",
       "      <td>54.000000</td>\n",
       "      <td>5.000000</td>\n",
       "      <td>8.000000</td>\n",
       "      <td>7.000000</td>\n",
       "      <td>9.100000</td>\n",
       "      <td>37.900000</td>\n",
       "      <td>16.200000</td>\n",
       "      <td>83.600000</td>\n",
       "      <td>77.500000</td>\n",
       "      <td>5.020000</td>\n",
       "      <td>14.000000</td>\n",
       "      <td>13.300000</td>\n",
       "      <td>330.000000</td>\n",
       "      <td>33.000000</td>\n",
       "      <td>613.250000</td>\n",
       "    </tr>\n",
       "    <tr>\n",
       "      <th>max</th>\n",
       "      <td>18.360000</td>\n",
       "      <td>38.160000</td>\n",
       "      <td>192.000000</td>\n",
       "      <td>103.000000</td>\n",
       "      <td>28.000000</td>\n",
       "      <td>10.000000</td>\n",
       "      <td>10.000000</td>\n",
       "      <td>17.000000</td>\n",
       "      <td>40.200000</td>\n",
       "      <td>37.700000</td>\n",
       "      <td>97.700000</td>\n",
       "      <td>91.000000</td>\n",
       "      <td>14.000000</td>\n",
       "      <td>36.000000</td>\n",
       "      <td>86.900000</td>\n",
       "      <td>708.000000</td>\n",
       "      <td>365.000000</td>\n",
       "      <td>992.000000</td>\n",
       "    </tr>\n",
       "  </tbody>\n",
       "</table>\n",
       "</div>"
      ],
      "text/plain": [
       "              Age         BMI      Height      Weight  Length_of_Stay  \\\n",
       "count  781.000000  755.000000  756.000000  779.000000      778.000000   \n",
       "mean    11.346451   18.907012  148.017460   43.172542        4.284062   \n",
       "std      3.529909    4.385331   19.732016   17.390984        2.574057   \n",
       "min      0.000000    7.830000   53.000000    3.960000        1.000000   \n",
       "25%      9.200000   15.725000  137.000000   29.500000        3.000000   \n",
       "50%     11.440000   18.060000  149.650000   41.400000        3.000000   \n",
       "75%     14.100000   21.180000  163.000000   54.000000        5.000000   \n",
       "max     18.360000   38.160000  192.000000  103.000000       28.000000   \n",
       "\n",
       "       Alvarado_Score  Paedriatic_Appendicitis_Score  Appendix_Diameter  \\\n",
       "count      730.000000                     730.000000         498.000000   \n",
       "mean         5.921918                       5.253425           7.762651   \n",
       "std          2.155972                       1.958456           2.536671   \n",
       "min          0.000000                       0.000000           2.700000   \n",
       "25%          4.000000                       4.000000           6.000000   \n",
       "50%          6.000000                       5.000000           7.500000   \n",
       "75%          8.000000                       7.000000           9.100000   \n",
       "max         10.000000                      10.000000          17.000000   \n",
       "\n",
       "       Body_Temperature   WBC_Count  Neutrophil_Percentage  \\\n",
       "count        775.000000  776.000000             679.000000   \n",
       "mean          37.404516   12.670683              71.791163   \n",
       "std            0.903678    5.366525              14.463656   \n",
       "min           26.900000    2.600000              27.200000   \n",
       "25%           36.800000    8.200000              61.400000   \n",
       "50%           37.200000   12.000000              75.500000   \n",
       "75%           37.900000   16.200000              83.600000   \n",
       "max           40.200000   37.700000              97.700000   \n",
       "\n",
       "       Segmented_Neutrophils   RBC_Count  Hemoglobin         RDW  \\\n",
       "count              54.000000  764.000000  764.000000  756.000000   \n",
       "mean               64.929630    4.799490   13.380497   13.180291   \n",
       "std                15.085025    0.499012    1.393271    4.538774   \n",
       "min                32.000000    3.620000    8.200000   11.200000   \n",
       "25%                54.500000    4.537500   12.600000   12.300000   \n",
       "50%                64.500000    4.780000   13.300000   12.700000   \n",
       "75%                77.500000    5.020000   14.000000   13.300000   \n",
       "max                91.000000   14.000000   36.000000   86.900000   \n",
       "\n",
       "       Thrombocyte_Count         CRP   US_Number  \n",
       "count         764.000000  771.000000  760.000000  \n",
       "mean          285.252618   31.386900  425.515789  \n",
       "std            72.494373   57.433854  271.585211  \n",
       "min            91.000000    0.000000    1.000000  \n",
       "25%           236.000000    1.000000  198.750000  \n",
       "50%           276.000000    7.000000  398.500000  \n",
       "75%           330.000000   33.000000  613.250000  \n",
       "max           708.000000  365.000000  992.000000  "
      ]
     },
     "execution_count": 11,
     "metadata": {},
     "output_type": "execute_result"
    }
   ],
   "source": [
    "\n",
    "# Remove the attributes\n",
    "clean_data_df.drop('Segmented_Neutrophils', axis=1, inplace=True)\n",
    "# Remove the attributes\n",
    "clean_data_df.drop('Dysuria', axis=1, inplace=True)\n",
    "# Remove the attributes\n",
    "clean_data_df.drop('Pathological_Lymph_Nodes', axis=1, inplace=True)"
   ]
  },
  {
   "cell_type": "markdown",
   "metadata": {
    "tags": []
   },
   "source": [
    "**Discussion:**\n",
    "\n",
    "Segmented Neutrophils had only 54 records not null values. This is not enough to make a representive sample of data. \n",
    "Dysuria and Pathological Lymph Nodes had low correlation with other symptoms of Appendicitis. No correlation with diagnosis of Appendicitis."
   ]
  },
  {
   "cell_type": "code",
   "execution_count": null,
   "metadata": {},
   "outputs": [],
   "source": []
  },
  {
   "cell_type": "markdown",
   "metadata": {},
   "source": [
    "***\n",
    "## Section: 3.3 - Create Attributes\n",
    "- Optionally, create new attributes based on the values of other attibutes.\n",
    "- Which new attributes did you decide to create, if any? Please justify.\n",
    "***"
   ]
  },
  {
   "cell_type": "code",
   "execution_count": 13,
   "metadata": {
    "tags": []
   },
   "outputs": [
    {
     "data": {
      "text/plain": [
       "Fever\n",
       "False    594\n",
       "True     188\n",
       "Name: count, dtype: int64"
      ]
     },
     "execution_count": 13,
     "metadata": {},
     "output_type": "execute_result"
    }
   ],
   "source": [
    "#Fever is binary feature that is yes if >38 degrees celcius. No otherwise.\n",
    "clean_data_df['Fever'] = clean_data_df['Body_Temperature'] >= 38\n",
    "clean_data_df['Fever'].value_counts()"
   ]
  },
  {
   "cell_type": "markdown",
   "metadata": {
    "tags": []
   },
   "source": [
    "**Discussion:**\n",
    "\n",
    "Another potential sign of illness is elevated body temperature in the ranges above 38 degrees celcius is considered a fever. 188 patients had a fever temperature range which is considered sick and dangerous."
   ]
  },
  {
   "cell_type": "code",
   "execution_count": null,
   "metadata": {},
   "outputs": [],
   "source": []
  },
  {
   "cell_type": "markdown",
   "metadata": {},
   "source": [
    "***\n",
    "## Section: 3.4 - Transform Attributes\n",
    "- Optionally, transform existing attributes (e.g., standardize, normalize, change units of measure, encode) to make them more appropriate for the expected uses.\n",
    "- Which attributes did you decide to transform, if any? Please justify.\n",
    "***"
   ]
  },
  {
   "cell_type": "code",
   "execution_count": null,
   "metadata": {
    "tags": []
   },
   "outputs": [],
   "source": []
  },
  {
   "cell_type": "markdown",
   "metadata": {
    "tags": []
   },
   "source": [
    "**Discussion:**\n",
    "\n",
    "I did not choose to transform existing attributes. No features stood out as needed to be normalized or standardized. The hospital was in Europe so it does not make sense to change units of measure to Farenheit, Feet, and Pounds."
   ]
  },
  {
   "cell_type": "code",
   "execution_count": null,
   "metadata": {},
   "outputs": [],
   "source": []
  },
  {
   "cell_type": "markdown",
   "metadata": {},
   "source": [
    "***\n",
    "## Section: 3.5 - Select Records\n",
    "- Optionally, select a subset of the records, via sampling, etc., to decrease the size of the dataset. Please justify.\n",
    "***"
   ]
  },
  {
   "cell_type": "code",
   "execution_count": null,
   "metadata": {
    "tags": []
   },
   "outputs": [],
   "source": []
  },
  {
   "cell_type": "markdown",
   "metadata": {
    "tags": []
   },
   "source": [
    "**Discussion:**\n",
    "\n",
    "I did not see a reason to trim the dataset. Most numerical records are around 781 non null values which is a large enough sample, but not too large that it takes long to data analysis. Outliers were removed."
   ]
  },
  {
   "cell_type": "code",
   "execution_count": null,
   "metadata": {},
   "outputs": [],
   "source": []
  },
  {
   "cell_type": "markdown",
   "metadata": {},
   "source": [
    "***\n",
    "## Section: 3.6 - Other Data Preparation\n",
    "- Optionally, perform other preparation steps (e.g., to optimize storage, retrieval, etc.). Please justify.\n",
    "***"
   ]
  },
  {
   "cell_type": "code",
   "execution_count": null,
   "metadata": {
    "tags": []
   },
   "outputs": [],
   "source": []
  },
  {
   "cell_type": "markdown",
   "metadata": {
    "tags": []
   },
   "source": [
    "**Discussion:**\n",
    "\n",
    "I did not see a need to perform any other steps."
   ]
  },
  {
   "cell_type": "code",
   "execution_count": null,
   "metadata": {},
   "outputs": [],
   "source": []
  },
  {
   "cell_type": "markdown",
   "metadata": {
    "tags": []
   },
   "source": [
    "***\n",
    "# Section: 4 - Modeling - **DO THIS!**\n",
    "In this step, the dataset is analyzed and used to create models and/or answer questions relevant to the business. This may include:\n",
    "- Developing statistical models for describing or predicting business situations.\n",
    "- Training data mining (e.g., machine learning) algorithms for classification, clustering, association analysis, outlier detection, and other uses.\n",
    "\n",
    "NOTE: This step is tightly coupled and iterative with the Data Preparation and Evaluation steps.\n",
    "***"
   ]
  },
  {
   "cell_type": "code",
   "execution_count": null,
   "metadata": {},
   "outputs": [],
   "source": []
  },
  {
   "cell_type": "markdown",
   "metadata": {},
   "source": [
    "**Discussion:**\n",
    "\n",
    "Fill in..."
   ]
  },
  {
   "cell_type": "code",
   "execution_count": null,
   "metadata": {},
   "outputs": [],
   "source": []
  },
  {
   "cell_type": "markdown",
   "metadata": {
    "jp-MarkdownHeadingCollapsed": true,
    "tags": []
   },
   "source": [
    "***\n",
    "# Section: 5 - Evaluation - **DO THIS!**\n",
    "In this step, the analyses and/or models are evaluated for quality and relevance / usefulness.\n",
    "\n",
    "NOTE: This step is tightly coupled and iterative with the Modeling step.\n",
    "***"
   ]
  },
  {
   "cell_type": "code",
   "execution_count": null,
   "metadata": {},
   "outputs": [],
   "source": []
  },
  {
   "cell_type": "markdown",
   "metadata": {},
   "source": [
    "**Discussion:**\n",
    "\n",
    "Fill in..."
   ]
  },
  {
   "cell_type": "code",
   "execution_count": null,
   "metadata": {},
   "outputs": [],
   "source": []
  },
  {
   "cell_type": "markdown",
   "metadata": {
    "jp-MarkdownHeadingCollapsed": true,
    "tags": []
   },
   "source": [
    "***\n",
    "# Section: 6 - Deployment - **SKIP THIS!**\n",
    "In this step, data and resulting models and/or analyses are put to use. This may include:\n",
    "- Deploying data mining / machine learning algorithms to production.\n",
    "- Communicating the results of the analyses to business stakeholders, so they can take action.\n",
    "***"
   ]
  },
  {
   "cell_type": "code",
   "execution_count": null,
   "metadata": {},
   "outputs": [],
   "source": []
  },
  {
   "cell_type": "markdown",
   "metadata": {
    "tags": []
   },
   "source": [
    "**Discussion:**\n",
    "\n",
    "Fill in..."
   ]
  },
  {
   "cell_type": "code",
   "execution_count": null,
   "metadata": {
    "tags": []
   },
   "outputs": [],
   "source": []
  },
  {
   "cell_type": "markdown",
   "metadata": {
    "tags": []
   },
   "source": [
    "***\n",
    "# Section: Conclusions - **DO THIS!**\n",
    "- What did you learn from this exercise?\n",
    "***"
   ]
  },
  {
   "cell_type": "code",
   "execution_count": null,
   "metadata": {},
   "outputs": [],
   "source": []
  },
  {
   "cell_type": "markdown",
   "metadata": {
    "tags": []
   },
   "source": [
    "**Discussion:**\n",
    "\n"
   ]
  },
  {
   "cell_type": "code",
   "execution_count": null,
   "metadata": {},
   "outputs": [],
   "source": []
  }
 ],
 "metadata": {
  "kernelspec": {
   "display_name": "Python 3 (ipykernel)",
   "language": "python",
   "name": "python3"
  },
  "language_info": {
   "codemirror_mode": {
    "name": "ipython",
    "version": 3
   },
   "file_extension": ".py",
   "mimetype": "text/x-python",
   "name": "python",
   "nbconvert_exporter": "python",
   "pygments_lexer": "ipython3",
   "version": "3.11.5"
  },
  "latex_envs": {
   "LaTeX_envs_menu_present": true,
   "autoclose": false,
   "autocomplete": true,
   "bibliofile": "biblio.bib",
   "cite_by": "apalike",
   "current_citInitial": 1,
   "eqLabelWithNumbers": true,
   "eqNumInitial": 1,
   "hotkeys": {
    "equation": "Ctrl-E",
    "itemize": "Ctrl-I"
   },
   "labels_anchors": false,
   "latex_user_defs": false,
   "report_style_numbering": false,
   "user_envs_cfg": false
  }
 },
 "nbformat": 4,
 "nbformat_minor": 4
}
